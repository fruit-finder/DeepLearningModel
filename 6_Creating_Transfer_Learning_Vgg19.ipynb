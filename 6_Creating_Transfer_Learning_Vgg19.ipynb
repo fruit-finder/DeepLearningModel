{
  "nbformat": 4,
  "nbformat_minor": 0,
  "metadata": {
    "colab": {
      "name": "5. Creating Transfer Learning Vgg19.ipynb",
      "provenance": [],
      "collapsed_sections": []
    },
    "kernelspec": {
      "name": "python3",
      "display_name": "Python 3"
    },
    "language_info": {
      "name": "python"
    }
  },
  "cells": [
    {
      "cell_type": "code",
      "metadata": {
        "id": "qAnR_GkO40zM"
      },
      "source": [
        "import numpy as np\n",
        "from sklearn.model_selection import train_test_split\n",
        "import os"
      ],
      "execution_count": null,
      "outputs": []
    },
    {
      "cell_type": "code",
      "metadata": {
        "id": "GsQPhnyN5NNO"
      },
      "source": [
        "images=np.load(open('/content/drive/MyDrive/All fruits/fruit_new.npy','rb'))\n",
        "target=np.load(open('/content/drive/MyDrive/All fruits/target_new.npy','rb'))\n",
        "images.shape,target.shape"
      ],
      "execution_count": null,
      "outputs": []
    },
    {
      "cell_type": "code",
      "metadata": {
        "id": "4yerm0Ke_00K"
      },
      "source": [
        "X_train,X_test,y_train,y_test=train_test_split(images,target,random_state=5,stratify=target)\n",
        "X_train.shape,X_test.shape,y_train.shape,y_test.shape"
      ],
      "execution_count": null,
      "outputs": []
    },
    {
      "cell_type": "markdown",
      "metadata": {
        "id": "d2-SxDm4r_GS"
      },
      "source": [
        "Model"
      ]
    },
    {
      "cell_type": "code",
      "metadata": {
        "colab": {
          "base_uri": "https://localhost:8080/"
        },
        "id": "9h2Rp-8JATX1",
        "outputId": "a27335e7-1193-4d3e-f43d-211492b6a57b"
      },
      "source": [
        "from keras.applications.vgg19 import VGG19\n",
        "vgg_model=VGG19(weights='imagenet')\n",
        "vgg_model.summary()\n"
      ],
      "execution_count": null,
      "outputs": [
        {
          "output_type": "stream",
          "text": [
            "Downloading data from https://storage.googleapis.com/tensorflow/keras-applications/vgg19/vgg19_weights_tf_dim_ordering_tf_kernels.h5\n",
            "574717952/574710816 [==============================] - 4s 0us/step\n",
            "574726144/574710816 [==============================] - 4s 0us/step\n",
            "Model: \"vgg19\"\n",
            "_________________________________________________________________\n",
            "Layer (type)                 Output Shape              Param #   \n",
            "=================================================================\n",
            "input_1 (InputLayer)         [(None, 224, 224, 3)]     0         \n",
            "_________________________________________________________________\n",
            "block1_conv1 (Conv2D)        (None, 224, 224, 64)      1792      \n",
            "_________________________________________________________________\n",
            "block1_conv2 (Conv2D)        (None, 224, 224, 64)      36928     \n",
            "_________________________________________________________________\n",
            "block1_pool (MaxPooling2D)   (None, 112, 112, 64)      0         \n",
            "_________________________________________________________________\n",
            "block2_conv1 (Conv2D)        (None, 112, 112, 128)     73856     \n",
            "_________________________________________________________________\n",
            "block2_conv2 (Conv2D)        (None, 112, 112, 128)     147584    \n",
            "_________________________________________________________________\n",
            "block2_pool (MaxPooling2D)   (None, 56, 56, 128)       0         \n",
            "_________________________________________________________________\n",
            "block3_conv1 (Conv2D)        (None, 56, 56, 256)       295168    \n",
            "_________________________________________________________________\n",
            "block3_conv2 (Conv2D)        (None, 56, 56, 256)       590080    \n",
            "_________________________________________________________________\n",
            "block3_conv3 (Conv2D)        (None, 56, 56, 256)       590080    \n",
            "_________________________________________________________________\n",
            "block3_conv4 (Conv2D)        (None, 56, 56, 256)       590080    \n",
            "_________________________________________________________________\n",
            "block3_pool (MaxPooling2D)   (None, 28, 28, 256)       0         \n",
            "_________________________________________________________________\n",
            "block4_conv1 (Conv2D)        (None, 28, 28, 512)       1180160   \n",
            "_________________________________________________________________\n",
            "block4_conv2 (Conv2D)        (None, 28, 28, 512)       2359808   \n",
            "_________________________________________________________________\n",
            "block4_conv3 (Conv2D)        (None, 28, 28, 512)       2359808   \n",
            "_________________________________________________________________\n",
            "block4_conv4 (Conv2D)        (None, 28, 28, 512)       2359808   \n",
            "_________________________________________________________________\n",
            "block4_pool (MaxPooling2D)   (None, 14, 14, 512)       0         \n",
            "_________________________________________________________________\n",
            "block5_conv1 (Conv2D)        (None, 14, 14, 512)       2359808   \n",
            "_________________________________________________________________\n",
            "block5_conv2 (Conv2D)        (None, 14, 14, 512)       2359808   \n",
            "_________________________________________________________________\n",
            "block5_conv3 (Conv2D)        (None, 14, 14, 512)       2359808   \n",
            "_________________________________________________________________\n",
            "block5_conv4 (Conv2D)        (None, 14, 14, 512)       2359808   \n",
            "_________________________________________________________________\n",
            "block5_pool (MaxPooling2D)   (None, 7, 7, 512)         0         \n",
            "_________________________________________________________________\n",
            "flatten (Flatten)            (None, 25088)             0         \n",
            "_________________________________________________________________\n",
            "fc1 (Dense)                  (None, 4096)              102764544 \n",
            "_________________________________________________________________\n",
            "fc2 (Dense)                  (None, 4096)              16781312  \n",
            "_________________________________________________________________\n",
            "predictions (Dense)          (None, 1000)              4097000   \n",
            "=================================================================\n",
            "Total params: 143,667,240\n",
            "Trainable params: 143,667,240\n",
            "Non-trainable params: 0\n",
            "_________________________________________________________________\n"
          ],
          "name": "stdout"
        }
      ]
    },
    {
      "cell_type": "code",
      "metadata": {
        "id": "VeZtM_eKEWgR"
      },
      "source": [
        "for layer in vgg_model.layers:\n",
        "  layer.trainable=False"
      ],
      "execution_count": null,
      "outputs": []
    },
    {
      "cell_type": "code",
      "metadata": {
        "colab": {
          "base_uri": "https://localhost:8080/"
        },
        "id": "p8L5fg_8AinS",
        "outputId": "f7233b67-e08b-4287-dd66-f9d29cdba719"
      },
      "source": [
        "from keras.layers import Flatten, Dense, Dropout\n",
        "from keras.models import Model\n",
        "flat=Flatten(name='flat')(vgg_model.layers[-2].output)\n",
        "h1=Dense(1024,activation='relu')(flat)\n",
        "h2=Dense(128,activation='relu')(h1)\n",
        "output=Dense(50,activation='softmax')(h2)\n",
        "model=Model(inputs=vgg_model.inputs,outputs=output)\n",
        "model.summary()"
      ],
      "execution_count": null,
      "outputs": [
        {
          "output_type": "stream",
          "text": [
            "Model: \"model_1\"\n",
            "_________________________________________________________________\n",
            "Layer (type)                 Output Shape              Param #   \n",
            "=================================================================\n",
            "input_1 (InputLayer)         [(None, 224, 224, 3)]     0         \n",
            "_________________________________________________________________\n",
            "block1_conv1 (Conv2D)        (None, 224, 224, 64)      1792      \n",
            "_________________________________________________________________\n",
            "block1_conv2 (Conv2D)        (None, 224, 224, 64)      36928     \n",
            "_________________________________________________________________\n",
            "block1_pool (MaxPooling2D)   (None, 112, 112, 64)      0         \n",
            "_________________________________________________________________\n",
            "block2_conv1 (Conv2D)        (None, 112, 112, 128)     73856     \n",
            "_________________________________________________________________\n",
            "block2_conv2 (Conv2D)        (None, 112, 112, 128)     147584    \n",
            "_________________________________________________________________\n",
            "block2_pool (MaxPooling2D)   (None, 56, 56, 128)       0         \n",
            "_________________________________________________________________\n",
            "block3_conv1 (Conv2D)        (None, 56, 56, 256)       295168    \n",
            "_________________________________________________________________\n",
            "block3_conv2 (Conv2D)        (None, 56, 56, 256)       590080    \n",
            "_________________________________________________________________\n",
            "block3_conv3 (Conv2D)        (None, 56, 56, 256)       590080    \n",
            "_________________________________________________________________\n",
            "block3_conv4 (Conv2D)        (None, 56, 56, 256)       590080    \n",
            "_________________________________________________________________\n",
            "block3_pool (MaxPooling2D)   (None, 28, 28, 256)       0         \n",
            "_________________________________________________________________\n",
            "block4_conv1 (Conv2D)        (None, 28, 28, 512)       1180160   \n",
            "_________________________________________________________________\n",
            "block4_conv2 (Conv2D)        (None, 28, 28, 512)       2359808   \n",
            "_________________________________________________________________\n",
            "block4_conv3 (Conv2D)        (None, 28, 28, 512)       2359808   \n",
            "_________________________________________________________________\n",
            "block4_conv4 (Conv2D)        (None, 28, 28, 512)       2359808   \n",
            "_________________________________________________________________\n",
            "block4_pool (MaxPooling2D)   (None, 14, 14, 512)       0         \n",
            "_________________________________________________________________\n",
            "block5_conv1 (Conv2D)        (None, 14, 14, 512)       2359808   \n",
            "_________________________________________________________________\n",
            "block5_conv2 (Conv2D)        (None, 14, 14, 512)       2359808   \n",
            "_________________________________________________________________\n",
            "block5_conv3 (Conv2D)        (None, 14, 14, 512)       2359808   \n",
            "_________________________________________________________________\n",
            "block5_conv4 (Conv2D)        (None, 14, 14, 512)       2359808   \n",
            "_________________________________________________________________\n",
            "block5_pool (MaxPooling2D)   (None, 7, 7, 512)         0         \n",
            "_________________________________________________________________\n",
            "flatten (Flatten)            (None, 25088)             0         \n",
            "_________________________________________________________________\n",
            "fc1 (Dense)                  (None, 4096)              102764544 \n",
            "_________________________________________________________________\n",
            "fc2 (Dense)                  (None, 4096)              16781312  \n",
            "_________________________________________________________________\n",
            "flat (Flatten)               (None, 4096)              0         \n",
            "_________________________________________________________________\n",
            "dense_3 (Dense)              (None, 1024)              4195328   \n",
            "_________________________________________________________________\n",
            "dense_4 (Dense)              (None, 128)               131200    \n",
            "_________________________________________________________________\n",
            "dense_5 (Dense)              (None, 50)                6450      \n",
            "=================================================================\n",
            "Total params: 143,903,218\n",
            "Trainable params: 4,332,978\n",
            "Non-trainable params: 139,570,240\n",
            "_________________________________________________________________\n"
          ],
          "name": "stdout"
        }
      ]
    },
    {
      "cell_type": "code",
      "metadata": {
        "id": "lms_BR5jEkzr"
      },
      "source": [
        "from keras import optimizers"
      ],
      "execution_count": null,
      "outputs": []
    },
    {
      "cell_type": "code",
      "metadata": {
        "id": "cv1sQOILEMRZ"
      },
      "source": [
        "model.compile(optimizer=optimizers.Adam(),loss='categorical_crossentropy',metrics=['accuracy'])"
      ],
      "execution_count": null,
      "outputs": []
    },
    {
      "cell_type": "code",
      "metadata": {
        "id": "MgnTBrc0EMRb"
      },
      "source": [
        "from keras.callbacks import ModelCheckpoint,EarlyStopping\n",
        "early_stopper = EarlyStopping(monitor='val_accuracy', min_delta=0, patience=10, verbose=1)\n",
        "checkpoint = ModelCheckpoint('/content/drive/MyDrive/All fruits/temp2/FruitsNewBestModel1.h5', monitor='val_accuracy', verbose=1, save_best_only=True,\n",
        "                                 mode='auto')"
      ],
      "execution_count": null,
      "outputs": []
    },
    {
      "cell_type": "code",
      "metadata": {
        "colab": {
          "base_uri": "https://localhost:8080/"
        },
        "id": "sWKDR3ZwEMRc",
        "outputId": "503b2b63-cea7-4b56-b673-64601821d851"
      },
      "source": [
        "history=model.fit(X_train,y_train,epochs=40,validation_data=(X_test,y_test),callbacks=[checkpoint,early_stopper])"
      ],
      "execution_count": null,
      "outputs": [
        {
          "output_type": "stream",
          "text": [
            "Epoch 1/40\n",
            "784/784 [==============================] - 222s 222ms/step - loss: 1.8203 - accuracy: 0.5565 - val_loss: 0.2007 - val_accuracy: 0.9467\n",
            "\n",
            "Epoch 00001: val_accuracy improved from -inf to 0.94665, saving model to /content/drive/MyDrive/All fruits/temp2/FruitsNewBestModel1.h5\n",
            "Epoch 2/40\n",
            "784/784 [==============================] - 166s 212ms/step - loss: 0.1571 - accuracy: 0.9585 - val_loss: 0.2087 - val_accuracy: 0.9389\n",
            "\n",
            "Epoch 00002: val_accuracy did not improve from 0.94665\n",
            "Epoch 3/40\n",
            "784/784 [==============================] - 165s 211ms/step - loss: 0.1189 - accuracy: 0.9661 - val_loss: 0.1469 - val_accuracy: 0.9604\n",
            "\n",
            "Epoch 00003: val_accuracy improved from 0.94665 to 0.96041, saving model to /content/drive/MyDrive/All fruits/temp2/FruitsNewBestModel1.h5\n",
            "Epoch 4/40\n",
            "784/784 [==============================] - 165s 211ms/step - loss: 0.1192 - accuracy: 0.9656 - val_loss: 0.1464 - val_accuracy: 0.9639\n",
            "\n",
            "Epoch 00004: val_accuracy improved from 0.96041 to 0.96388, saving model to /content/drive/MyDrive/All fruits/temp2/FruitsNewBestModel1.h5\n",
            "Epoch 5/40\n",
            "784/784 [==============================] - 166s 211ms/step - loss: 0.0844 - accuracy: 0.9781 - val_loss: 0.2066 - val_accuracy: 0.9469\n",
            "\n",
            "Epoch 00005: val_accuracy did not improve from 0.96388\n",
            "Epoch 6/40\n",
            "784/784 [==============================] - 165s 210ms/step - loss: 0.1023 - accuracy: 0.9739 - val_loss: 0.1267 - val_accuracy: 0.9752\n",
            "\n",
            "Epoch 00006: val_accuracy improved from 0.96388 to 0.97524, saving model to /content/drive/MyDrive/All fruits/temp2/FruitsNewBestModel1.h5\n",
            "Epoch 7/40\n",
            "392/784 [==============>...............] - ETA: 1:02 - loss: 0.0647 - accuracy: 0.9820"
          ],
          "name": "stdout"
        }
      ]
    },
    {
      "cell_type": "markdown",
      "metadata": {
        "id": "RITcfcahsbVK"
      },
      "source": [
        "Model Evaluation"
      ]
    },
    {
      "cell_type": "code",
      "metadata": {
        "colab": {
          "base_uri": "https://localhost:8080/"
        },
        "id": "iJRtwctpOsV0",
        "outputId": "0d955751-94d3-4f6a-cae2-6b86954bacec"
      },
      "source": [
        "import numpy as np\n",
        "images=np.load(open('/content/drive/MyDrive/All fruits/fruit_new.npy','rb'))\n",
        "target=np.load(open('/content/drive/MyDrive/All fruits/target_new.npy','rb'))\n",
        "images.shape,target.shape"
      ],
      "execution_count": null,
      "outputs": [
        {
          "output_type": "execute_result",
          "data": {
            "text/plain": [
              "((33440, 224, 224, 3), (33440, 50))"
            ]
          },
          "metadata": {
            "tags": []
          },
          "execution_count": 1
        }
      ]
    },
    {
      "cell_type": "code",
      "metadata": {
        "colab": {
          "base_uri": "https://localhost:8080/"
        },
        "id": "UZWR3XzVOsV4",
        "outputId": "11359dc9-91bc-418d-8438-5add3a023723"
      },
      "source": [
        "from sklearn.model_selection import train_test_split\n",
        "X_train,X_test,y_train,y_test=train_test_split(images,target,random_state=5,stratify=target)\n",
        "X_train.shape,X_test.shape,y_train.shape,y_test.shape"
      ],
      "execution_count": null,
      "outputs": [
        {
          "output_type": "execute_result",
          "data": {
            "text/plain": [
              "((25080, 224, 224, 3), (8360, 224, 224, 3), (25080, 50), (8360, 50))"
            ]
          },
          "metadata": {
            "tags": []
          },
          "execution_count": 2
        }
      ]
    },
    {
      "cell_type": "code",
      "metadata": {
        "id": "Nb24fgnES6-w"
      },
      "source": [
        "del images \n",
        "del target"
      ],
      "execution_count": null,
      "outputs": []
    },
    {
      "cell_type": "code",
      "metadata": {
        "id": "oWMAHG7lOiN9"
      },
      "source": [
        "import keras\n",
        "model=keras.models.load_model('/content/drive/MyDrive/All fruits/temp2/FruitsVggNewModel.h5')"
      ],
      "execution_count": null,
      "outputs": []
    },
    {
      "cell_type": "code",
      "metadata": {
        "id": "y4Pw8yWhOiN-"
      },
      "source": [
        "y_train_pred=model.predict(X_train)\n",
        "y_test_pred=model.predict(X_test)"
      ],
      "execution_count": null,
      "outputs": []
    },
    {
      "cell_type": "code",
      "metadata": {
        "colab": {
          "base_uri": "https://localhost:8080/"
        },
        "id": "EecseiGVOiN_",
        "outputId": "8e963d76-433d-436b-eed3-98833935b05d"
      },
      "source": [
        "y_train_pred=np.argmax(y_train_pred,axis=-1)\n",
        "y_train_label=np.argmax(y_train,axis=-1)\n",
        "\n",
        "y_test_pred=np.argmax(y_test_pred,axis=-1)\n",
        "y_test_label=np.argmax(y_test,axis=-1)\n",
        "y_test_pred,y_test_label"
      ],
      "execution_count": null,
      "outputs": [
        {
          "output_type": "execute_result",
          "data": {
            "text/plain": [
              "(array([42, 42, 42, ..., 42, 42, 42]), array([49, 30, 49, ...,  9,  2, 23]))"
            ]
          },
          "metadata": {
            "tags": []
          },
          "execution_count": 6
        }
      ]
    },
    {
      "cell_type": "code",
      "metadata": {
        "colab": {
          "base_uri": "https://localhost:8080/"
        },
        "id": "KRwN_S-eOiOA",
        "outputId": "4c8eaac0-20cf-49a7-93ef-37a3ef6916a3"
      },
      "source": [
        "from sklearn.metrics import accuracy_score,classification_report\n",
        "train_acc=accuracy_score(y_train_pred,y_train_label)\n",
        "test_acc=accuracy_score(y_test_pred,y_test_label)\n",
        "train_acc,test_acc"
      ],
      "execution_count": null,
      "outputs": [
        {
          "output_type": "execute_result",
          "data": {
            "text/plain": [
              "(0.024362041467304626, 0.024401913875598084)"
            ]
          },
          "metadata": {
            "tags": []
          },
          "execution_count": 7
        }
      ]
    },
    {
      "cell_type": "code",
      "metadata": {
        "colab": {
          "base_uri": "https://localhost:8080/"
        },
        "id": "UCkiQe4YOiOC",
        "outputId": "0bcf43d4-ad0b-4771-f52b-0725439c7a87"
      },
      "source": [
        "report=classification_report(y_test_label,y_test_pred)\n",
        "print(report)"
      ],
      "execution_count": null,
      "outputs": [
        {
          "output_type": "stream",
          "text": [
            "              precision    recall  f1-score   support\n",
            "\n",
            "           0       0.99      1.00      1.00       198\n",
            "           1       0.93      0.93      0.93       150\n",
            "           2       1.00      1.00      1.00       200\n",
            "           3       0.99      0.89      0.94       175\n",
            "           4       0.99      1.00      0.99       200\n",
            "           5       0.99      0.99      0.99       200\n",
            "           6       1.00      1.00      1.00       200\n",
            "           7       1.00      0.96      0.98       150\n",
            "           8       0.97      0.93      0.95       200\n",
            "           9       0.93      0.94      0.94       150\n",
            "          10       0.97      0.88      0.92       150\n",
            "          11       0.94      0.99      0.97       150\n",
            "          12       1.00      0.97      0.99       200\n",
            "          13       0.99      0.96      0.97       150\n",
            "          14       0.98      1.00      0.99       125\n",
            "          15       0.98      1.00      0.99       125\n",
            "          16       0.98      1.00      0.99       131\n",
            "          17       1.00      1.00      1.00       125\n",
            "          18       1.00      1.00      1.00       200\n",
            "          19       1.00      1.00      1.00       200\n",
            "          20       0.98      0.96      0.97       148\n",
            "          21       1.00      0.98      0.99       125\n",
            "          22       1.00      1.00      1.00       125\n",
            "          23       1.00      1.00      1.00       125\n",
            "          24       0.98      1.00      0.99       125\n",
            "          25       0.99      1.00      0.99       193\n",
            "          26       0.99      1.00      1.00       125\n",
            "          27       0.91      0.98      0.95       125\n",
            "          28       1.00      1.00      1.00       125\n",
            "          29       0.93      0.98      0.95       127\n",
            "          30       0.99      1.00      1.00       125\n",
            "          31       0.98      1.00      0.99       134\n",
            "          32       1.00      1.00      1.00       125\n",
            "          33       0.97      0.89      0.92       125\n",
            "          34       1.00      0.99      1.00       125\n",
            "          35       0.99      0.99      0.99       200\n",
            "          36       0.99      0.99      0.99       200\n",
            "          37       0.99      1.00      1.00       200\n",
            "          38       1.00      1.00      1.00       200\n",
            "          39       0.96      1.00      0.98       200\n",
            "          40       1.00      1.00      1.00       200\n",
            "          41       1.00      0.99      1.00       200\n",
            "          42       0.99      1.00      1.00       204\n",
            "          43       1.00      1.00      1.00       200\n",
            "          44       0.97      1.00      0.98       200\n",
            "          45       1.00      1.00      1.00       200\n",
            "          46       0.91      0.98      0.95       200\n",
            "          47       1.00      1.00      1.00       200\n",
            "          48       0.99      0.95      0.97       200\n",
            "          49       1.00      1.00      1.00       200\n",
            "\n",
            "    accuracy                           0.98      8360\n",
            "   macro avg       0.98      0.98      0.98      8360\n",
            "weighted avg       0.98      0.98      0.98      8360\n",
            "\n"
          ],
          "name": "stdout"
        }
      ]
    },
    {
      "cell_type": "markdown",
      "metadata": {
        "id": "lznd_zBzwglh"
      },
      "source": [
        "Model Evaluation"
      ]
    },
    {
      "cell_type": "code",
      "metadata": {
        "colab": {
          "base_uri": "https://localhost:8080/"
        },
        "id": "3Xir3jLWOiOE",
        "outputId": "5e9b1423-d8fd-47cf-d3d9-3006e2d76c0f"
      },
      "source": [
        "from sklearn.metrics import confusion_matrix\n",
        "from sklearn.metrics import ConfusionMatrixDisplay\n",
        "\n",
        "cm=confusion_matrix(y_test_label,y_test_pred)\n",
        "print(cm)"
      ],
      "execution_count": null,
      "outputs": [
        {
          "output_type": "stream",
          "text": [
            "[[198   0   0 ...   0   0   0]\n",
            " [  0 139   0 ...   0   0   0]\n",
            " [  0   0 200 ...   0   0   0]\n",
            " ...\n",
            " [  0   0   0 ... 200   0   0]\n",
            " [  0   0   0 ...   0 190   0]\n",
            " [  0   0   0 ...   0   0 200]]\n"
          ],
          "name": "stdout"
        }
      ]
    },
    {
      "cell_type": "code",
      "metadata": {
        "colab": {
          "base_uri": "https://localhost:8080/"
        },
        "id": "Hv9WLF2HOiOG",
        "outputId": "d90e7bbc-6cb8-4335-bf09-59b52c0b7ed9"
      },
      "source": [
        "import os\n",
        "fruit_lt=os.listdir('/content/drive/MyDrive/All fruits/Fruit')\n",
        "fruit_lt,len(fruit_lt)"
      ],
      "execution_count": null,
      "outputs": [
        {
          "output_type": "execute_result",
          "data": {
            "text/plain": [
              "(['Acerola_fruit',\n",
              "  'Apple_fruit',\n",
              "  'Apricots_fruit',\n",
              "  'Banana_fruit',\n",
              "  'Blackberry_fruit',\n",
              "  'Blueberry_fruit',\n",
              "  'Carambola_fruit',\n",
              "  'Cherry_fruit',\n",
              "  'Chestnut_fruit',\n",
              "  'Coconut_fruit',\n",
              "  'Custard_apple_fruit',\n",
              "  'Date_fruit',\n",
              "  'Dragon_Fruit',\n",
              "  'Fig_fruit',\n",
              "  'Gooseberry_fruit',\n",
              "  'Grapes_fruit',\n",
              "  'Guava_fruit',\n",
              "  'Jack_fruit',\n",
              "  'Jambolan_fruit',\n",
              "  'Jujube_fruit',\n",
              "  'Kiwi_fruit',\n",
              "  'Kumquat_fruit',\n",
              "  'Lime_fruit',\n",
              "  'Litchi_fruit',\n",
              "  'Loquat_fruit',\n",
              "  'Mamey_fruit',\n",
              "  'Mango_fruit',\n",
              "  'Mulberry_fruit',\n",
              "  'Muskmelon_fruit',\n",
              "  'Nectrine_fruit',\n",
              "  'Olive_fruit',\n",
              "  'Orange_fruit',\n",
              "  'Papaya_fruit',\n",
              "  'Pear_fruit',\n",
              "  'Pineapple_fruit',\n",
              "  'Plum_fruit',\n",
              "  'Pomegranate_fruit',\n",
              "  'Pummelo_fruit',\n",
              "  'Peach_fruit',\n",
              "  'Quince_fruit',\n",
              "  'Rambutan_Fruit',\n",
              "  'Sapodilla_fruit',\n",
              "  'Soursop_fruit',\n",
              "  'Strawberry_fruit',\n",
              "  'Ugli_Fruit',\n",
              "  'Ugni_fruit',\n",
              "  'Water_Chestnut_fruit',\n",
              "  'Watermelon_fruit',\n",
              "  'White_Mulberry_fruit',\n",
              "  'Yangmei_fruit'],\n",
              " 50)"
            ]
          },
          "metadata": {
            "tags": []
          },
          "execution_count": 10
        }
      ]
    },
    {
      "cell_type": "code",
      "metadata": {
        "colab": {
          "base_uri": "https://localhost:8080/"
        },
        "id": "CQhHLn5COiOH",
        "outputId": "0b20f999-c05c-4cc7-d4d7-ac9c57f18215"
      },
      "source": [
        "fruit_map={}\n",
        "for index,val in enumerate(fruit_lt):\n",
        "  fruit_map[index]=val\n",
        "fruit_map"
      ],
      "execution_count": null,
      "outputs": [
        {
          "output_type": "execute_result",
          "data": {
            "text/plain": [
              "{0: 'Acerola_fruit',\n",
              " 1: 'Apple_fruit',\n",
              " 2: 'Apricots_fruit',\n",
              " 3: 'Banana_fruit',\n",
              " 4: 'Blackberry_fruit',\n",
              " 5: 'Blueberry_fruit',\n",
              " 6: 'Carambola_fruit',\n",
              " 7: 'Cherry_fruit',\n",
              " 8: 'Chestnut_fruit',\n",
              " 9: 'Coconut_fruit',\n",
              " 10: 'Custard_apple_fruit',\n",
              " 11: 'Date_fruit',\n",
              " 12: 'Dragon_Fruit',\n",
              " 13: 'Fig_fruit',\n",
              " 14: 'Gooseberry_fruit',\n",
              " 15: 'Grapes_fruit',\n",
              " 16: 'Guava_fruit',\n",
              " 17: 'Jack_fruit',\n",
              " 18: 'Jambolan_fruit',\n",
              " 19: 'Jujube_fruit',\n",
              " 20: 'Kiwi_fruit',\n",
              " 21: 'Kumquat_fruit',\n",
              " 22: 'Lime_fruit',\n",
              " 23: 'Litchi_fruit',\n",
              " 24: 'Loquat_fruit',\n",
              " 25: 'Mamey_fruit',\n",
              " 26: 'Mango_fruit',\n",
              " 27: 'Mulberry_fruit',\n",
              " 28: 'Muskmelon_fruit',\n",
              " 29: 'Nectrine_fruit',\n",
              " 30: 'Olive_fruit',\n",
              " 31: 'Orange_fruit',\n",
              " 32: 'Papaya_fruit',\n",
              " 33: 'Pear_fruit',\n",
              " 34: 'Pineapple_fruit',\n",
              " 35: 'Plum_fruit',\n",
              " 36: 'Pomegranate_fruit',\n",
              " 37: 'Pummelo_fruit',\n",
              " 38: 'Peach_fruit',\n",
              " 39: 'Quince_fruit',\n",
              " 40: 'Rambutan_Fruit',\n",
              " 41: 'Sapodilla_fruit',\n",
              " 42: 'Soursop_fruit',\n",
              " 43: 'Strawberry_fruit',\n",
              " 44: 'Ugli_Fruit',\n",
              " 45: 'Ugni_fruit',\n",
              " 46: 'Water_Chestnut_fruit',\n",
              " 47: 'Watermelon_fruit',\n",
              " 48: 'White_Mulberry_fruit',\n",
              " 49: 'Yangmei_fruit'}"
            ]
          },
          "metadata": {
            "tags": []
          },
          "execution_count": 11
        }
      ]
    },
    {
      "cell_type": "code",
      "metadata": {
        "colab": {
          "base_uri": "https://localhost:8080/"
        },
        "id": "HEgk2JzWOiOI",
        "outputId": "78b6e9e5-497d-4076-c1c1-c772da360bf4"
      },
      "source": [
        "for index,row in enumerate(cm):\n",
        "  count=0\n",
        "  for j in range(len(row)):\n",
        "    if row[j]>0:\n",
        "      count+=1\n",
        "  print(count)\n",
        "  break\n"
      ],
      "execution_count": null,
      "outputs": [
        {
          "output_type": "stream",
          "text": [
            "1\n"
          ],
          "name": "stdout"
        }
      ]
    },
    {
      "cell_type": "code",
      "metadata": {
        "colab": {
          "base_uri": "https://localhost:8080/"
        },
        "id": "ahoveRXOOiOJ",
        "outputId": "d525c611-153a-4d3a-898f-6b43d600fa91"
      },
      "source": [
        "for index,row in enumerate(cm):\n",
        "  count=0\n",
        "  for j in range(len(row)):\n",
        "    if(row[j]>0):\n",
        "      count+=1\n",
        "  if count>1:\n",
        "    print(f'{fruit_map[index]}--->{row}')\n",
        "  "
      ],
      "execution_count": null,
      "outputs": [
        {
          "output_type": "stream",
          "text": [
            "Apple_fruit--->[  0 139   0   1   0   0   0   0   1   0   1   1   0   1   1   0   1   0\n",
            "   0   0   1   0   0   0   0   0   0   0   0   0   0   0   0   1   0   0\n",
            "   0   1   0   1   0   0   0   0   0   0   0   0   0   0]\n",
            "Banana_fruit--->[  0   5   0 155   0   1   0   0   0   2   0   1   0   0   0   1   1   0\n",
            "   0   0   0   0   0   0   2   0   1   0   0   0   1   0   0   0   0   2\n",
            "   0   0   0   2   0   0   0   0   0   0   0   0   0   1]\n",
            "Blueberry_fruit--->[  0   0   0   0   0 198   0   0   0   0   0   0   0   0   0   0   0   0\n",
            "   0   0   0   0   0   0   0   0   0   0   0   0   0   0   0   0   0   0\n",
            "   0   0   0   0   0   0   0   0   2   0   0   0   0   0]\n",
            "Cherry_fruit--->[  1   1   0   0   0   0   0 144   0   0   0   1   0   0   0   0   0   0\n",
            "   0   0   0   0   0   0   0   0   0   2   0   0   0   0   0   0   0   0\n",
            "   0   1   0   0   0   0   0   0   0   0   0   0   0   0]\n",
            "Chestnut_fruit--->[  0   0   0   0   0   0   0   0 185   0   0   0   0   0   0   0   0   0\n",
            "   0   0   0   0   0   0   0   0   0   0   0   0   0   0   0   0   0   0\n",
            "   0   0   0   0   0   0   0   0   0   0  15   0   0   0]\n",
            "Coconut_fruit--->[  0   0   0   0   0   0   0   0   1 141   2   3   0   0   0   0   0   0\n",
            "   0   0   0   0   0   0   0   0   0   0   0   0   0   0   0   0   0   0\n",
            "   0   0   0   1   0   0   0   0   0   0   1   1   0   0]\n",
            "Custard_apple_fruit--->[  0   3   0   0   2   0   0   0   0   6 132   0   0   0   0   1   1   0\n",
            "   0   0   2   0   0   0   0   0   0   0   0   0   0   0   0   0   0   0\n",
            "   0   0   0   0   0   0   2   0   0   0   1   0   0   0]\n",
            "Date_fruit--->[  0   0   0   0   1   0   0   0   0   0   0 149   0   0   0   0   0   0\n",
            "   0   0   0   0   0   0   0   0   0   0   0   0   0   0   0   0   0   0\n",
            "   0   0   0   0   0   0   0   0   0   0   0   0   0   0]\n",
            "Dragon_Fruit--->[  0   0   0   0   0   0   0   0   0   0   0   0 195   0   0   0   0   0\n",
            "   0   0   0   0   0   0   0   0   0   0   0   0   0   0   0   0   0   0\n",
            "   0   0   0   0   0   0   0   0   5   0   0   0   0   0]\n",
            "Fig_fruit--->[  0   0   0   0   0   1   0   0   0   0   1   2   0 144   1   0   0   0\n",
            "   0   0   0   0   0   0   0   1   0   0   0   0   0   0   0   0   0   0\n",
            "   0   0   0   0   0   0   0   0   0   0   0   0   0   0]\n",
            "Kiwi_fruit--->[  0   1   0   0   0   0   1   0   0   2   0   1   0   0   0   0   0   0\n",
            "   0   0 142   0   0   0   0   1   0   0   0   0   0   0   0   0   0   0\n",
            "   0   0   0   0   0   0   0   0   0   0   0   0   0   0]\n",
            "Kumquat_fruit--->[  0   0   0   0   0   0   0   0   0   0   0   0   0   0   0   0   0   0\n",
            "   0   0   0 122   0   0   0   0   0   0   0   0   0   3   0   0   0   0\n",
            "   0   0   0   0   0   0   0   0   0   0   0   0   0   0]\n",
            "Mulberry_fruit--->[  0   0   0   0   0   0   0   0   0   0   0   0   0   0   0   1   0   0\n",
            "   0   0   0   0   0   0   0   0   0 123   0   0   0   0   0   0   0   0\n",
            "   0   0   0   0   0   0   0   0   0   0   0   0   1   0]\n",
            "Nectrine_fruit--->[  0   0   0   0   0   0   0   0   0   0   0   0   0   0   0   0   0   0\n",
            "   0   0   0   0   0   0   0   0   0   0   0 124   0   0   0   3   0   0\n",
            "   0   0   0   0   0   0   0   0   0   0   0   0   0   0]\n",
            "Pear_fruit--->[  0   0   0   0   0   0   0   0   0   0   0   0   0   0   0   0   0   0\n",
            "   0   0   0   0   0   0   0   0   0   0   0  10   0   0   0 111   0   0\n",
            "   0   0   0   4   0   0   0   0   0   0   0   0   0   0]\n",
            "Pineapple_fruit--->[  0   0   0   0   0   0   0   0   0   0   0   0   0   0   0   0   0   0\n",
            "   0   0   0   0   0   0   0   0   0   0   0   0   0   0   0   0 124   0\n",
            "   0   0   0   1   0   0   0   0   0   0   0   0   0   0]\n",
            "Plum_fruit--->[  0   0   0   0   0   0   0   0   0   0   0   0   0   0   0   0   0   0\n",
            "   0   0   0   0   0   0   0   0   0   0   0   0   0   0   0   0   0 199\n",
            "   0   0   0   0   0   0   0   0   0   0   1   0   0   0]\n",
            "Pomegranate_fruit--->[  0   0   0   0   0   0   0   0   0   0   0   0   0   1   0   0   0   0\n",
            "   0   0   0   0   0   0   0   0   0   0   0   0   0   0   0   0   0   0\n",
            " 198   0   0   0   0   0   0   0   0   0   1   0   0   0]\n",
            "Sapodilla_fruit--->[  0   0   0   0   0   0   0   0   0   0   0   0   0   0   0   0   0   0\n",
            "   0   0   0   0   0   0   0   0   0   0   0   0   0   0   0   0   0   0\n",
            "   1   0   0   0   0 199   0   0   0   0   0   0   0   0]\n",
            "Water_Chestnut_fruit--->[  0   0   0   0   0   0   0   0   3   0   0   0   0   0   0   0   0   0\n",
            "   0   0   0   0   0   0   0   0   0   0   0   0   0   0   0   0   0   0\n",
            "   0   0   0   0   0   0   0   0   0   0 197   0   0   0]\n",
            "White_Mulberry_fruit--->[  0   0   0   0   0   0   0   0   0   0   0   0   0   0   0   0   0   0\n",
            "   0   0   0   0   0   0   0   0   0  10   0   0   0   0   0   0   0   0\n",
            "   0   0   0   0   0   0   0   0   0   0   0   0 190   0]\n"
          ],
          "name": "stdout"
        }
      ]
    }
  ]
}