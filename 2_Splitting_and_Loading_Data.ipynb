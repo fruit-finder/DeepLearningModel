{
  "nbformat": 4,
  "nbformat_minor": 0,
  "metadata": {
    "colab": {
      "name": "2. Splitting and Loading Data.ipynb",
      "provenance": [],
      "collapsed_sections": []
    },
    "kernelspec": {
      "name": "python3",
      "display_name": "Python 3"
    },
    "language_info": {
      "name": "python"
    }
  },
  "cells": [
    {
      "cell_type": "markdown",
      "metadata": {
        "id": "p4Sa7rnsvgCo"
      },
      "source": [
        "Splitting Data"
      ]
    },
    {
      "cell_type": "code",
      "metadata": {
        "id": "2pXg3JCEwNLh"
      },
      "source": [
        "import numpy as np\n",
        "from sklearn.model_selection import train_test_split"
      ],
      "execution_count": null,
      "outputs": []
    },
    {
      "cell_type": "code",
      "metadata": {
        "id": "OgEvYx46wTGv"
      },
      "source": [
        "data=np.load(open('/content/drive/MyDrive/All fruits/temp2/final_latest_data1.npy','rb'))\n",
        "target=np.load(open('/content/drive/MyDrive/All fruits/temp2/final__latest_label1.npy','rb'))"
      ],
      "execution_count": null,
      "outputs": []
    },
    {
      "cell_type": "code",
      "metadata": {
        "colab": {
          "base_uri": "https://localhost:8080/"
        },
        "id": "pNk6IOa0pgjc",
        "outputId": "3549bc3d-2c81-4aa9-ffa2-093ded47f055"
      },
      "source": [
        "data.shape,target.shape"
      ],
      "execution_count": null,
      "outputs": [
        {
          "output_type": "execute_result",
          "data": {
            "text/plain": [
              "((42280, 164, 164, 3), (42280, 44))"
            ]
          },
          "metadata": {
            "tags": []
          },
          "execution_count": 23
        }
      ]
    },
    {
      "cell_type": "code",
      "metadata": {
        "colab": {
          "base_uri": "https://localhost:8080/"
        },
        "id": "w6GJL4gkwhTm",
        "outputId": "eec085d5-bcc3-4614-8b07-af4638daec41"
      },
      "source": [
        "X_train,X_test,y_train,y_test=train_test_split(data,target,test_size=0.25,random_state=5,stratify=target)\n",
        "X_train.shape,X_test.shape,y_train.shape,y_test.shape"
      ],
      "execution_count": null,
      "outputs": [
        {
          "output_type": "execute_result",
          "data": {
            "text/plain": [
              "((31710, 164, 164, 3), (10570, 164, 164, 3), (31710, 44), (10570, 44))"
            ]
          },
          "metadata": {
            "tags": []
          },
          "execution_count": 24
        }
      ]
    },
    {
      "cell_type": "code",
      "metadata": {
        "id": "gv14yS0E0JQA"
      },
      "source": [
        "del data\n",
        "del target"
      ],
      "execution_count": null,
      "outputs": []
    },
    {
      "cell_type": "code",
      "metadata": {
        "id": "SscUnf4xxWmi"
      },
      "source": [
        "np.save(open('/content/drive/MyDrive/All fruits/temp2/final_new_latest_X_train1.npy','wb'),X_train)\n",
        "np.save(open('/content/drive/MyDrive/All fruits/temp2/final_new_latest_X_test1.npy','wb'),X_test)\n",
        "np.save(open('/content/drive/MyDrive/All fruits/temp2/final_new_latest_y_train1.npy','wb'),y_train)\n",
        "np.save(open('/content/drive/MyDrive/All fruits/temp2/final_new_latest_y_test1.npy','wb'),y_test)"
      ],
      "execution_count": null,
      "outputs": []
    },
    {
      "cell_type": "markdown",
      "metadata": {
        "id": "m3B9fcEDvyS2"
      },
      "source": [
        "Loading Data"
      ]
    },
    {
      "cell_type": "code",
      "metadata": {
        "id": "2HIAECg7FTEV"
      },
      "source": [
        "import numpy as np\n",
        "X_train=np.load(open('/content/drive/MyDrive/All fruits/temp2/final_new_latest_X_train1.npy','rb'))\n",
        "X_test=np.load(open('/content/drive/MyDrive/All fruits/temp2/final_new_latest_X_test1.npy','rb'))\n",
        "y_train=np.load(open('/content/drive/MyDrive/All fruits/temp2/final_new_latest_y_train1.npy','rb'))\n",
        "y_test=np.load(open('/content/drive/MyDrive/All fruits/temp2/final_new_latest_y_test1.npy','rb'))"
      ],
      "execution_count": null,
      "outputs": []
    },
    {
      "cell_type": "code",
      "metadata": {
        "colab": {
          "base_uri": "https://localhost:8080/"
        },
        "id": "DWXW82-RFu9e",
        "outputId": "8e70f295-7fa8-446a-95f0-6a5926c1889c"
      },
      "source": [
        "X_train.shape,X_test.shape,y_train.shape,y_test.shape"
      ],
      "execution_count": null,
      "outputs": [
        {
          "output_type": "execute_result",
          "data": {
            "text/plain": [
              "((31710, 164, 164, 3), (10570, 164, 164, 3), (31710, 44), (10570, 44))"
            ]
          },
          "metadata": {
            "tags": []
          },
          "execution_count": 6
        }
      ]
    }
  ]
}