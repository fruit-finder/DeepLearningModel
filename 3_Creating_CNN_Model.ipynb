{
  "nbformat": 4,
  "nbformat_minor": 0,
  "metadata": {
    "colab": {
      "name": "2. Creating Model.ipynb",
      "provenance": [],
      "collapsed_sections": []
    },
    "kernelspec": {
      "name": "python3",
      "display_name": "Python 3"
    },
    "language_info": {
      "name": "python"
    }
  },
  "cells": [
    {
      "cell_type": "markdown",
      "metadata": {
        "id": "9ziuEaNLw6yv"
      },
      "source": [
        "Model"
      ]
    },
    {
      "cell_type": "code",
      "metadata": {
        "id": "GrMF7WgmAlJ1"
      },
      "source": [
        "from keras.models import Sequential\n",
        "from keras.layers import Dense,Flatten,Conv2D,MaxPool2D,BatchNormalization,Dropout,Input,GlobalMaxPool2D\n",
        "from keras import regularizers\n",
        "from keras import optimizers"
      ],
      "execution_count": null,
      "outputs": []
    },
    {
      "cell_type": "code",
      "metadata": {
        "colab": {
          "base_uri": "https://localhost:8080/"
        },
        "id": "jy4MUfZTRtua",
        "outputId": "275548dc-e3b0-4069-e9b6-cd5e2644e42e"
      },
      "source": [
        "model=Sequential()\n",
        "model.add(Input(shape=(164,164,3)))\n",
        "model.add(Conv2D(32,(3,3),activation='relu',padding='same'))\n",
        "model.add(Conv2D(32,(3,3),activation='relu',padding='same'))\n",
        "model.add(BatchNormalization())\n",
        "model.add(MaxPool2D(2))\n",
        "model.add(Conv2D(64,(3,3),activation='relu'))\n",
        "model.add(Dropout(0.2))\n",
        "model.add(Conv2D(128,(3,3),activation='relu'))\n",
        "model.add(BatchNormalization())\n",
        "model.add(MaxPool2D(2))\n",
        "#model.add(Conv2D(256,(3,3),activation='relu'))\n",
        "model.add(Conv2D(256,(3,3),activation='relu'))\n",
        "model.add(BatchNormalization())\n",
        "model.add(MaxPool2D(2))\n",
        "model.add(Dropout(0.3))\n",
        "model.add(GlobalMaxPool2D())\n",
        "model.add(Dense(128,activation='relu'))\n",
        "model.add(Dropout(0.3))\n",
        "model.add(Dense(44,activation='softmax'))"
      ],
      "execution_count": null,
      "outputs": [
        {
          "output_type": "stream",
          "text": [
            "WARNING:tensorflow:Please add `keras.layers.InputLayer` instead of `keras.Input` to Sequential model. `keras.Input` is intended to be used by Functional model.\n"
          ],
          "name": "stdout"
        }
      ]
    },
    {
      "cell_type": "code",
      "metadata": {
        "colab": {
          "base_uri": "https://localhost:8080/"
        },
        "id": "-uy4m-ZeDCAm",
        "outputId": "2acdc442-7b18-439a-af7e-c601142c3a8c"
      },
      "source": [
        "model.summary()"
      ],
      "execution_count": null,
      "outputs": [
        {
          "output_type": "stream",
          "text": [
            "Model: \"sequential_1\"\n",
            "_________________________________________________________________\n",
            "Layer (type)                 Output Shape              Param #   \n",
            "=================================================================\n",
            "conv2d_5 (Conv2D)            (None, 164, 164, 32)      896       \n",
            "_________________________________________________________________\n",
            "conv2d_6 (Conv2D)            (None, 164, 164, 32)      9248      \n",
            "_________________________________________________________________\n",
            "batch_normalization_3 (Batch (None, 164, 164, 32)      128       \n",
            "_________________________________________________________________\n",
            "max_pooling2d_3 (MaxPooling2 (None, 82, 82, 32)        0         \n",
            "_________________________________________________________________\n",
            "conv2d_7 (Conv2D)            (None, 80, 80, 64)        18496     \n",
            "_________________________________________________________________\n",
            "dropout_3 (Dropout)          (None, 80, 80, 64)        0         \n",
            "_________________________________________________________________\n",
            "conv2d_8 (Conv2D)            (None, 78, 78, 128)       73856     \n",
            "_________________________________________________________________\n",
            "batch_normalization_4 (Batch (None, 78, 78, 128)       512       \n",
            "_________________________________________________________________\n",
            "max_pooling2d_4 (MaxPooling2 (None, 39, 39, 128)       0         \n",
            "_________________________________________________________________\n",
            "conv2d_9 (Conv2D)            (None, 37, 37, 256)       295168    \n",
            "_________________________________________________________________\n",
            "batch_normalization_5 (Batch (None, 37, 37, 256)       1024      \n",
            "_________________________________________________________________\n",
            "max_pooling2d_5 (MaxPooling2 (None, 18, 18, 256)       0         \n",
            "_________________________________________________________________\n",
            "dropout_4 (Dropout)          (None, 18, 18, 256)       0         \n",
            "_________________________________________________________________\n",
            "global_max_pooling2d_1 (Glob (None, 256)               0         \n",
            "_________________________________________________________________\n",
            "dense_2 (Dense)              (None, 128)               32896     \n",
            "_________________________________________________________________\n",
            "dropout_5 (Dropout)          (None, 128)               0         \n",
            "_________________________________________________________________\n",
            "dense_3 (Dense)              (None, 44)                5676      \n",
            "=================================================================\n",
            "Total params: 437,900\n",
            "Trainable params: 437,068\n",
            "Non-trainable params: 832\n",
            "_________________________________________________________________\n"
          ],
          "name": "stdout"
        }
      ]
    },
    {
      "cell_type": "code",
      "metadata": {
        "id": "UIKHYy8cDD6M"
      },
      "source": [
        "model.compile(optimizer=optimizers.Adam(),loss='categorical_crossentropy',metrics=['accuracy'])"
      ],
      "execution_count": null,
      "outputs": []
    },
    {
      "cell_type": "code",
      "metadata": {
        "id": "LENZET9I8JwO",
        "colab": {
          "base_uri": "https://localhost:8080/"
        },
        "outputId": "f9aeeb5a-0617-41e1-f431-d1ba823b1b76"
      },
      "source": [
        "from keras.models import load_model\n",
        "model=load_model('/content/drive/MyDrive/All fruits/temp2/FruitsNewLatestBestModel5.h5')\n",
        "model.summary()"
      ],
      "execution_count": null,
      "outputs": [
        {
          "output_type": "stream",
          "text": [
            "Model: \"sequential_1\"\n",
            "_________________________________________________________________\n",
            "Layer (type)                 Output Shape              Param #   \n",
            "=================================================================\n",
            "conv2d_5 (Conv2D)            (None, 164, 164, 32)      896       \n",
            "_________________________________________________________________\n",
            "conv2d_6 (Conv2D)            (None, 164, 164, 32)      9248      \n",
            "_________________________________________________________________\n",
            "batch_normalization_3 (Batch (None, 164, 164, 32)      128       \n",
            "_________________________________________________________________\n",
            "max_pooling2d_3 (MaxPooling2 (None, 82, 82, 32)        0         \n",
            "_________________________________________________________________\n",
            "conv2d_7 (Conv2D)            (None, 80, 80, 64)        18496     \n",
            "_________________________________________________________________\n",
            "dropout_3 (Dropout)          (None, 80, 80, 64)        0         \n",
            "_________________________________________________________________\n",
            "conv2d_8 (Conv2D)            (None, 78, 78, 128)       73856     \n",
            "_________________________________________________________________\n",
            "batch_normalization_4 (Batch (None, 78, 78, 128)       512       \n",
            "_________________________________________________________________\n",
            "max_pooling2d_4 (MaxPooling2 (None, 39, 39, 128)       0         \n",
            "_________________________________________________________________\n",
            "conv2d_9 (Conv2D)            (None, 37, 37, 256)       295168    \n",
            "_________________________________________________________________\n",
            "batch_normalization_5 (Batch (None, 37, 37, 256)       1024      \n",
            "_________________________________________________________________\n",
            "max_pooling2d_5 (MaxPooling2 (None, 18, 18, 256)       0         \n",
            "_________________________________________________________________\n",
            "dropout_4 (Dropout)          (None, 18, 18, 256)       0         \n",
            "_________________________________________________________________\n",
            "global_max_pooling2d_1 (Glob (None, 256)               0         \n",
            "_________________________________________________________________\n",
            "dense_2 (Dense)              (None, 128)               32896     \n",
            "_________________________________________________________________\n",
            "dropout_5 (Dropout)          (None, 128)               0         \n",
            "_________________________________________________________________\n",
            "dense_3 (Dense)              (None, 44)                5676      \n",
            "=================================================================\n",
            "Total params: 437,900\n",
            "Trainable params: 437,068\n",
            "Non-trainable params: 832\n",
            "_________________________________________________________________\n"
          ],
          "name": "stdout"
        }
      ]
    },
    {
      "cell_type": "code",
      "metadata": {
        "id": "lcjkq9HoEREF"
      },
      "source": [
        "from keras.callbacks import ModelCheckpoint,EarlyStopping\n",
        "early_stopper = EarlyStopping(monitor='val_accuracy', min_delta=0, patience=10, verbose=1)\n",
        "checkpoint = ModelCheckpoint('/content/drive/MyDrive/All fruits/temp2/FruitsNewLatestBestModel6.h5', monitor='val_accuracy', verbose=1, save_best_only=True,\n",
        "                                 mode='auto')"
      ],
      "execution_count": null,
      "outputs": []
    },
    {
      "cell_type": "code",
      "metadata": {
        "colab": {
          "base_uri": "https://localhost:8080/"
        },
        "id": "ZhG_sVG8c2AH",
        "outputId": "99b22411-8f27-4fd1-9e8e-88883c72306d"
      },
      "source": [
        "history=model.fit(X_train,y_train,epochs=40,validation_data=(X_test,y_test),callbacks=[checkpoint,early_stopper])"
      ],
      "execution_count": null,
      "outputs": [
        {
          "output_type": "stream",
          "text": [
            "Epoch 1/40\n",
            "991/991 [==============================] - 238s 192ms/step - loss: 0.9403 - accuracy: 0.7087 - val_loss: 1.0057 - val_accuracy: 0.7181\n",
            "\n",
            "Epoch 00001: val_accuracy improved from -inf to 0.71807, saving model to /content/drive/MyDrive/All fruits/temp2/FruitsNewLatestBestModel5.h5\n",
            "Epoch 2/40\n",
            "991/991 [==============================] - 184s 186ms/step - loss: 0.9117 - accuracy: 0.7188 - val_loss: 1.0233 - val_accuracy: 0.7157\n",
            "\n",
            "Epoch 00002: val_accuracy did not improve from 0.71807\n",
            "Epoch 3/40\n",
            "991/991 [==============================] - 184s 186ms/step - loss: 0.8916 - accuracy: 0.7267 - val_loss: 1.0251 - val_accuracy: 0.7162\n",
            "\n",
            "Epoch 00003: val_accuracy did not improve from 0.71807\n",
            "Epoch 4/40\n",
            "991/991 [==============================] - 185s 187ms/step - loss: 0.8821 - accuracy: 0.7281 - val_loss: 1.0112 - val_accuracy: 0.7222\n",
            "\n",
            "Epoch 00004: val_accuracy improved from 0.71807 to 0.72223, saving model to /content/drive/MyDrive/All fruits/temp2/FruitsNewLatestBestModel5.h5\n",
            "Epoch 5/40\n",
            "991/991 [==============================] - 189s 190ms/step - loss: 0.8713 - accuracy: 0.7317 - val_loss: 0.9869 - val_accuracy: 0.7259\n",
            "\n",
            "Epoch 00005: val_accuracy improved from 0.72223 to 0.72592, saving model to /content/drive/MyDrive/All fruits/temp2/FruitsNewLatestBestModel5.h5\n",
            "Epoch 6/40\n",
            "991/991 [==============================] - 186s 188ms/step - loss: 0.8479 - accuracy: 0.7375 - val_loss: 0.9874 - val_accuracy: 0.7316\n",
            "\n",
            "Epoch 00006: val_accuracy improved from 0.72592 to 0.73160, saving model to /content/drive/MyDrive/All fruits/temp2/FruitsNewLatestBestModel5.h5\n",
            "Epoch 7/40\n",
            "991/991 [==============================] - 190s 191ms/step - loss: 0.8530 - accuracy: 0.7362 - val_loss: 0.9924 - val_accuracy: 0.7284\n",
            "\n",
            "Epoch 00007: val_accuracy did not improve from 0.73160\n",
            "Epoch 8/40\n",
            "991/991 [==============================] - 185s 187ms/step - loss: 0.8274 - accuracy: 0.7456 - val_loss: 0.9905 - val_accuracy: 0.7256\n",
            "\n",
            "Epoch 00008: val_accuracy did not improve from 0.73160\n",
            "Epoch 9/40\n",
            "991/991 [==============================] - 185s 187ms/step - loss: 0.8039 - accuracy: 0.7511 - val_loss: 0.9655 - val_accuracy: 0.7362\n",
            "\n",
            "Epoch 00009: val_accuracy improved from 0.73160 to 0.73623, saving model to /content/drive/MyDrive/All fruits/temp2/FruitsNewLatestBestModel5.h5\n",
            "Epoch 10/40\n",
            "991/991 [==============================] - 189s 191ms/step - loss: 0.8208 - accuracy: 0.7481 - val_loss: 0.9626 - val_accuracy: 0.7412\n",
            "\n",
            "Epoch 00010: val_accuracy improved from 0.73623 to 0.74115, saving model to /content/drive/MyDrive/All fruits/temp2/FruitsNewLatestBestModel5.h5\n",
            "Epoch 11/40\n",
            "991/991 [==============================] - 185s 187ms/step - loss: 0.7931 - accuracy: 0.7524 - val_loss: 0.9852 - val_accuracy: 0.7285\n",
            "\n",
            "Epoch 00011: val_accuracy did not improve from 0.74115\n",
            "Epoch 12/40\n",
            "991/991 [==============================] - 187s 188ms/step - loss: 0.7973 - accuracy: 0.7522 - val_loss: 0.9576 - val_accuracy: 0.7435\n",
            "\n",
            "Epoch 00012: val_accuracy improved from 0.74115 to 0.74352, saving model to /content/drive/MyDrive/All fruits/temp2/FruitsNewLatestBestModel5.h5\n",
            "Epoch 13/40\n",
            "991/991 [==============================] - 185s 187ms/step - loss: 0.7744 - accuracy: 0.7581 - val_loss: 0.9436 - val_accuracy: 0.7420\n",
            "\n",
            "Epoch 00013: val_accuracy did not improve from 0.74352\n",
            "Epoch 14/40\n",
            "991/991 [==============================] - 184s 186ms/step - loss: 0.7682 - accuracy: 0.7591 - val_loss: 0.9640 - val_accuracy: 0.7371\n",
            "\n",
            "Epoch 00014: val_accuracy did not improve from 0.74352\n",
            "Epoch 15/40\n",
            "991/991 [==============================] - 188s 190ms/step - loss: 0.7526 - accuracy: 0.7665 - val_loss: 0.9354 - val_accuracy: 0.7451\n",
            "\n",
            "Epoch 00015: val_accuracy improved from 0.74352 to 0.74513, saving model to /content/drive/MyDrive/All fruits/temp2/FruitsNewLatestBestModel5.h5\n",
            "Epoch 16/40\n",
            "991/991 [==============================] - 185s 187ms/step - loss: 0.7331 - accuracy: 0.7731 - val_loss: 0.9423 - val_accuracy: 0.7443\n",
            "\n",
            "Epoch 00016: val_accuracy did not improve from 0.74513\n",
            "Epoch 17/40\n",
            "991/991 [==============================] - 185s 187ms/step - loss: 0.7346 - accuracy: 0.7716 - val_loss: 0.9641 - val_accuracy: 0.7369\n",
            "\n",
            "Epoch 00017: val_accuracy did not improve from 0.74513\n",
            "Epoch 18/40\n",
            "991/991 [==============================] - 184s 186ms/step - loss: 0.7311 - accuracy: 0.7727 - val_loss: 0.9659 - val_accuracy: 0.7348\n",
            "\n",
            "Epoch 00018: val_accuracy did not improve from 0.74513\n",
            "Epoch 19/40\n",
            "991/991 [==============================] - 188s 190ms/step - loss: 0.7134 - accuracy: 0.7743 - val_loss: 0.9446 - val_accuracy: 0.7468\n",
            "\n",
            "Epoch 00019: val_accuracy improved from 0.74513 to 0.74683, saving model to /content/drive/MyDrive/All fruits/temp2/FruitsNewLatestBestModel5.h5\n",
            "Epoch 20/40\n",
            "991/991 [==============================] - 184s 186ms/step - loss: 0.7084 - accuracy: 0.7794 - val_loss: 0.9897 - val_accuracy: 0.7322\n",
            "\n",
            "Epoch 00020: val_accuracy did not improve from 0.74683\n",
            "Epoch 21/40\n",
            "991/991 [==============================] - 184s 185ms/step - loss: 0.6976 - accuracy: 0.7839 - val_loss: 0.9767 - val_accuracy: 0.7328\n",
            "\n",
            "Epoch 00021: val_accuracy did not improve from 0.74683\n",
            "Epoch 22/40\n",
            "991/991 [==============================] - 184s 185ms/step - loss: 0.6898 - accuracy: 0.7847 - val_loss: 0.9802 - val_accuracy: 0.7354\n",
            "\n",
            "Epoch 00022: val_accuracy did not improve from 0.74683\n",
            "Epoch 23/40\n",
            "991/991 [==============================] - 184s 185ms/step - loss: 0.6887 - accuracy: 0.7875 - val_loss: 1.0007 - val_accuracy: 0.7265\n",
            "\n",
            "Epoch 00023: val_accuracy did not improve from 0.74683\n",
            "Epoch 24/40\n",
            "991/991 [==============================] - 184s 185ms/step - loss: 0.6714 - accuracy: 0.7877 - val_loss: 0.9097 - val_accuracy: 0.7596\n",
            "\n",
            "Epoch 00024: val_accuracy improved from 0.74683 to 0.75960, saving model to /content/drive/MyDrive/All fruits/temp2/FruitsNewLatestBestModel5.h5\n",
            "Epoch 25/40\n",
            "991/991 [==============================] - 184s 185ms/step - loss: 0.6578 - accuracy: 0.7913 - val_loss: 0.9309 - val_accuracy: 0.7502\n",
            "\n",
            "Epoch 00025: val_accuracy did not improve from 0.75960\n",
            "Epoch 26/40\n",
            "991/991 [==============================] - 183s 185ms/step - loss: 0.6674 - accuracy: 0.7892 - val_loss: 0.9407 - val_accuracy: 0.7463\n",
            "\n",
            "Epoch 00026: val_accuracy did not improve from 0.75960\n",
            "Epoch 27/40\n",
            "991/991 [==============================] - 187s 189ms/step - loss: 0.6427 - accuracy: 0.7958 - val_loss: 1.0476 - val_accuracy: 0.7279\n",
            "\n",
            "Epoch 00027: val_accuracy did not improve from 0.75960\n",
            "Epoch 28/40\n",
            "991/991 [==============================] - 188s 190ms/step - loss: 0.6469 - accuracy: 0.7977 - val_loss: 1.0114 - val_accuracy: 0.7330\n",
            "\n",
            "Epoch 00028: val_accuracy did not improve from 0.75960\n",
            "Epoch 29/40\n",
            "991/991 [==============================] - 185s 186ms/step - loss: 0.6349 - accuracy: 0.8003 - val_loss: 0.9693 - val_accuracy: 0.7481\n",
            "\n",
            "Epoch 00029: val_accuracy did not improve from 0.75960\n",
            "Epoch 30/40\n",
            "991/991 [==============================] - 185s 187ms/step - loss: 0.6253 - accuracy: 0.8039 - val_loss: 0.9481 - val_accuracy: 0.7551\n",
            "\n",
            "Epoch 00030: val_accuracy did not improve from 0.75960\n",
            "Epoch 31/40\n",
            "991/991 [==============================] - 185s 187ms/step - loss: 0.6114 - accuracy: 0.8057 - val_loss: 1.0002 - val_accuracy: 0.7441\n",
            "\n",
            "Epoch 00031: val_accuracy did not improve from 0.75960\n",
            "Epoch 32/40\n",
            "991/991 [==============================] - 184s 186ms/step - loss: 0.6094 - accuracy: 0.8066 - val_loss: 0.9688 - val_accuracy: 0.7461\n",
            "\n",
            "Epoch 00032: val_accuracy did not improve from 0.75960\n",
            "Epoch 33/40\n",
            "991/991 [==============================] - 185s 187ms/step - loss: 0.6086 - accuracy: 0.8079 - val_loss: 0.9194 - val_accuracy: 0.7592\n",
            "\n",
            "Epoch 00033: val_accuracy did not improve from 0.75960\n",
            "Epoch 34/40\n",
            "991/991 [==============================] - 185s 187ms/step - loss: 0.5988 - accuracy: 0.8098 - val_loss: 1.0104 - val_accuracy: 0.7374\n",
            "\n",
            "Epoch 00034: val_accuracy did not improve from 0.75960\n",
            "Epoch 00034: early stopping\n"
          ],
          "name": "stdout"
        }
      ]
    },
    {
      "cell_type": "code",
      "metadata": {
        "colab": {
          "base_uri": "https://localhost:8080/"
        },
        "id": "xgugK_GG8IW1",
        "outputId": "86b53bf5-1747-4025-bdad-3f3c82681a5f"
      },
      "source": [
        "history=model.fit(X_train,y_train,epochs=20,validation_data=(X_test,y_test),callbacks=[checkpoint,early_stopper])"
      ],
      "execution_count": null,
      "outputs": [
        {
          "output_type": "stream",
          "text": [
            "Epoch 1/20\n",
            "991/991 [==============================] - 187s 189ms/step - loss: 0.5898 - accuracy: 0.8126 - val_loss: 0.9194 - val_accuracy: 0.7586\n",
            "\n",
            "Epoch 00001: val_accuracy did not improve from 0.75960\n",
            "Epoch 2/20\n",
            "991/991 [==============================] - 185s 187ms/step - loss: 0.5732 - accuracy: 0.8161 - val_loss: 0.9408 - val_accuracy: 0.7588\n",
            "\n",
            "Epoch 00002: val_accuracy did not improve from 0.75960\n",
            "Epoch 3/20\n",
            "991/991 [==============================] - 184s 186ms/step - loss: 0.5734 - accuracy: 0.8143 - val_loss: 0.9314 - val_accuracy: 0.7546\n",
            "\n",
            "Epoch 00003: val_accuracy did not improve from 0.75960\n",
            "Epoch 4/20\n",
            "991/991 [==============================] - 185s 187ms/step - loss: 0.5640 - accuracy: 0.8208 - val_loss: 0.9325 - val_accuracy: 0.7523\n",
            "\n",
            "Epoch 00004: val_accuracy did not improve from 0.75960\n",
            "Epoch 5/20\n",
            "991/991 [==============================] - 184s 186ms/step - loss: 0.5719 - accuracy: 0.8175 - val_loss: 0.9333 - val_accuracy: 0.7585\n",
            "\n",
            "Epoch 00005: val_accuracy did not improve from 0.75960\n",
            "Epoch 6/20\n",
            "991/991 [==============================] - 185s 187ms/step - loss: 0.5485 - accuracy: 0.8274 - val_loss: 1.0458 - val_accuracy: 0.7290\n",
            "\n",
            "Epoch 00006: val_accuracy did not improve from 0.75960\n",
            "Epoch 7/20\n",
            "991/991 [==============================] - 184s 185ms/step - loss: 0.5479 - accuracy: 0.8259 - val_loss: 1.0900 - val_accuracy: 0.7248\n",
            "\n",
            "Epoch 00007: val_accuracy did not improve from 0.75960\n",
            "Epoch 8/20\n",
            "991/991 [==============================] - 184s 186ms/step - loss: 0.5506 - accuracy: 0.8262 - val_loss: 0.9360 - val_accuracy: 0.7575\n",
            "\n",
            "Epoch 00008: val_accuracy did not improve from 0.75960\n",
            "Epoch 9/20\n",
            "991/991 [==============================] - 183s 185ms/step - loss: 0.5430 - accuracy: 0.8297 - val_loss: 0.9540 - val_accuracy: 0.7532\n",
            "\n",
            "Epoch 00009: val_accuracy did not improve from 0.75960\n",
            "Epoch 10/20\n",
            "991/991 [==============================] - 185s 187ms/step - loss: 0.5368 - accuracy: 0.8292 - val_loss: 0.9573 - val_accuracy: 0.7541\n",
            "\n",
            "Epoch 00010: val_accuracy did not improve from 0.75960\n",
            "Epoch 11/20\n",
            "991/991 [==============================] - 183s 185ms/step - loss: 0.5332 - accuracy: 0.8331 - val_loss: 0.9561 - val_accuracy: 0.7523\n",
            "\n",
            "Epoch 00011: val_accuracy did not improve from 0.75960\n",
            "Epoch 12/20\n",
            "991/991 [==============================] - 185s 186ms/step - loss: 0.5211 - accuracy: 0.8351 - val_loss: 0.9367 - val_accuracy: 0.7677\n",
            "\n",
            "Epoch 00012: val_accuracy improved from 0.75960 to 0.76774, saving model to /content/drive/MyDrive/All fruits/temp2/FruitsNewLatestBestModel5.h5\n",
            "Epoch 13/20\n",
            "991/991 [==============================] - 183s 185ms/step - loss: 0.5167 - accuracy: 0.8343 - val_loss: 0.9736 - val_accuracy: 0.7483\n",
            "\n",
            "Epoch 00013: val_accuracy did not improve from 0.76774\n",
            "Epoch 14/20\n",
            "991/991 [==============================] - 185s 186ms/step - loss: 0.5239 - accuracy: 0.8338 - val_loss: 1.0208 - val_accuracy: 0.7408\n",
            "\n",
            "Epoch 00014: val_accuracy did not improve from 0.76774\n",
            "Epoch 15/20\n",
            "991/991 [==============================] - 183s 185ms/step - loss: 0.5040 - accuracy: 0.8406 - val_loss: 0.9946 - val_accuracy: 0.7490\n",
            "\n",
            "Epoch 00015: val_accuracy did not improve from 0.76774\n",
            "Epoch 16/20\n",
            "991/991 [==============================] - 188s 190ms/step - loss: 0.5066 - accuracy: 0.8390 - val_loss: 0.9753 - val_accuracy: 0.7474\n",
            "\n",
            "Epoch 00016: val_accuracy did not improve from 0.76774\n",
            "Epoch 17/20\n",
            "991/991 [==============================] - 184s 185ms/step - loss: 0.4988 - accuracy: 0.8405 - val_loss: 0.9597 - val_accuracy: 0.7539\n",
            "\n",
            "Epoch 00017: val_accuracy did not improve from 0.76774\n",
            "Epoch 18/20\n",
            "991/991 [==============================] - 188s 190ms/step - loss: 0.4994 - accuracy: 0.8395 - val_loss: 1.0243 - val_accuracy: 0.7412\n",
            "\n",
            "Epoch 00018: val_accuracy did not improve from 0.76774\n",
            "Epoch 19/20\n",
            "991/991 [==============================] - 183s 185ms/step - loss: 0.4893 - accuracy: 0.8429 - val_loss: 0.9332 - val_accuracy: 0.7586\n",
            "\n",
            "Epoch 00019: val_accuracy did not improve from 0.76774\n",
            "Epoch 20/20\n",
            "991/991 [==============================] - 186s 188ms/step - loss: 0.4801 - accuracy: 0.8467 - val_loss: 0.9547 - val_accuracy: 0.7640\n",
            "\n",
            "Epoch 00020: val_accuracy did not improve from 0.76774\n"
          ],
          "name": "stdout"
        }
      ]
    },
    {
      "cell_type": "code",
      "metadata": {
        "colab": {
          "base_uri": "https://localhost:8080/"
        },
        "id": "Rq5RQYk2_B00",
        "outputId": "5dfb2351-ec8c-4105-a1c2-ef3432ef9720"
      },
      "source": [
        "model.evaluate(X_test,y_test)"
      ],
      "execution_count": null,
      "outputs": [
        {
          "output_type": "stream",
          "text": [
            "331/331 [==============================] - 9s 27ms/step - loss: 0.9715 - accuracy: 0.7826\n"
          ],
          "name": "stdout"
        },
        {
          "output_type": "execute_result",
          "data": {
            "text/plain": [
              "[0.9715221524238586, 0.782592236995697]"
            ]
          },
          "metadata": {
            "tags": []
          },
          "execution_count": 15
        }
      ]
    },
    {
      "cell_type": "markdown",
      "metadata": {
        "id": "eIgt0ZztxWZL"
      },
      "source": [
        "Model Evaluation"
      ]
    },
    {
      "cell_type": "code",
      "metadata": {
        "id": "dxXqBIoZYRPI"
      },
      "source": [
        "label_fruit_map={0: 'acerola',\n",
        " 1: 'apple',\n",
        " 2: 'apricot',\n",
        " 3: 'banana',\n",
        " 4: 'black_berry',\n",
        " 5: 'blueberry',\n",
        " 6: 'carambola',\n",
        " 7: 'coconut',\n",
        " 8: 'custard_apple',\n",
        " 9: 'date',\n",
        " 10: 'dragon',\n",
        " 11: 'fig',\n",
        " 12: 'gooseberry',\n",
        " 13: 'grape',\n",
        " 14: 'guava',\n",
        " 15: 'jackfruit',\n",
        " 16: 'jambul',\n",
        " 17: 'jujube',\n",
        " 18: 'kiwi',\n",
        " 19: 'kumquat',\n",
        " 20: 'lime',\n",
        " 21: 'loquat',\n",
        " 22: 'lychee',\n",
        " 23: 'mamey_apple',\n",
        " 24: 'mango',\n",
        " 25: 'muskmelon',\n",
        " 26: 'olive',\n",
        " 27: 'orange',\n",
        " 28: 'papaya',\n",
        " 29: 'pear',\n",
        " 30: 'pineapple',\n",
        " 31: 'plumcot',\n",
        " 32: 'pomegranate',\n",
        " 33: 'quince',\n",
        " 34: 'rambutan',\n",
        " 35: 'sapodilla',\n",
        " 36: 'strawberry',\n",
        " 37: 'ugli',\n",
        " 38: 'watermelon',\n",
        " 39: 'white_mulberry',\n",
        " 40: 'nance',\n",
        " 41: 'zucchini',\n",
        " 42: 'manila tamarind',\n",
        " 43: 'lillipilli',\n",
        " 44: 'monstera deliciosa',\n",
        " 45: 'rimu',\n",
        " 46: 'ita palm',\n",
        " 47: 'malay apple',\n",
        " 48: 'cardon',\n",
        " 49: 'pulasan'}"
      ],
      "execution_count": null,
      "outputs": []
    },
    {
      "cell_type": "code",
      "metadata": {
        "id": "16eZEiPn6HEt"
      },
      "source": [
        "import numpy as np\n",
        "X_train=np.load(open('/content/drive/MyDrive/All fruits/temp2/final_new_latest_X_train1.npy','rb'))\n",
        "X_test=np.load(open('/content/drive/MyDrive/All fruits/temp2/final_new_latest_X_test1.npy','rb'))\n",
        "y_train=np.load(open('/content/drive/MyDrive/All fruits/temp2/final_new_latest_y_train1.npy','rb'))\n",
        "y_test=np.load(open('/content/drive/MyDrive/All fruits/temp2/final_new_latest_y_test1.npy','rb'))"
      ],
      "execution_count": null,
      "outputs": []
    },
    {
      "cell_type": "code",
      "metadata": {
        "colab": {
          "base_uri": "https://localhost:8080/"
        },
        "id": "mnNnGI85NRWJ",
        "outputId": "4d9d64b3-4e03-445f-f457-bf82d7a0a3ef"
      },
      "source": [
        "X_train.shape,X_test.shape,y_train.shape,y_test.shape"
      ],
      "execution_count": null,
      "outputs": [
        {
          "output_type": "execute_result",
          "data": {
            "text/plain": [
              "((31710, 164, 164, 3), (10570, 164, 164, 3), (31710, 44), (10570, 44))"
            ]
          },
          "metadata": {
            "tags": []
          },
          "execution_count": 25
        }
      ]
    },
    {
      "cell_type": "code",
      "metadata": {
        "id": "0rO-diw25Sog"
      },
      "source": [
        "import keras\n",
        "model=keras.models.load_model('/content/drive/MyDrive/All fruits/temp2/FruitsNewLatestBestModel5.h5')"
      ],
      "execution_count": null,
      "outputs": []
    },
    {
      "cell_type": "code",
      "metadata": {
        "id": "P9ymDQ8K6Ijl"
      },
      "source": [
        "y_train_pred=model.predict(X_train)\n",
        "y_test_pred=model.predict(X_test)"
      ],
      "execution_count": null,
      "outputs": []
    },
    {
      "cell_type": "code",
      "metadata": {
        "colab": {
          "base_uri": "https://localhost:8080/"
        },
        "id": "CxWP8fOnzuzI",
        "outputId": "0de84216-9f51-44de-be3c-671c7cabfb33"
      },
      "source": [
        "y_train_pred=np.argmax(y_train_pred,axis=-1)\n",
        "y_train_label=np.argmax(y_train,axis=-1)\n",
        "\n",
        "y_test_pred=np.argmax(y_test_pred,axis=-1)\n",
        "y_test_label=np.argmax(y_test,axis=-1)\n",
        "y_test_pred,y_test_label"
      ],
      "execution_count": null,
      "outputs": [
        {
          "output_type": "execute_result",
          "data": {
            "text/plain": [
              "(array([32, 17, 47, ..., 29, 25,  3]), array([39, 16, 41, ..., 36, 22,  2]))"
            ]
          },
          "metadata": {
            "tags": []
          },
          "execution_count": 28
        }
      ]
    },
    {
      "cell_type": "code",
      "metadata": {
        "colab": {
          "base_uri": "https://localhost:8080/"
        },
        "id": "ifIN_axtWhld",
        "outputId": "b6ba11c7-07f4-4ca7-d9d0-441e31e4cca4"
      },
      "source": [
        "def get_map(lt):\n",
        "  map={}\n",
        "  for i in lt:\n",
        "    if i not in map.keys():\n",
        "      map[i]=1\n",
        "    else:\n",
        "      map[i]+=1\n",
        "  return map\n",
        "pred=get_map(y_test_pred)\n",
        "label=get_map(y_test_label)\n",
        "map={}\n",
        "for key in label.keys():\n",
        "  if(abs(label[key]-pred[key])>30):\n",
        "    map[key]=(label[key]-pred[key],label_fruit_map[key])\n",
        "map#1,19,20,41,30,31"
      ],
      "execution_count": null,
      "outputs": [
        {
          "output_type": "execute_result",
          "data": {
            "text/plain": [
              "{0: (-33, 'acerola'),\n",
              " 1: (251, 'apple'),\n",
              " 4: (-32, 'black_berry'),\n",
              " 8: (-32, 'custard_apple'),\n",
              " 16: (60, 'jambul'),\n",
              " 17: (-55, 'jujube'),\n",
              " 19: (231, 'kumquat'),\n",
              " 20: (230, 'lime'),\n",
              " 22: (-51, 'lychee'),\n",
              " 24: (-40, 'mango'),\n",
              " 27: (55, 'orange'),\n",
              " 29: (57, 'pear'),\n",
              " 30: (245, 'pineapple'),\n",
              " 31: (212, 'plumcot'),\n",
              " 34: (-196, 'rambutan'),\n",
              " 35: (-61, 'sapodilla'),\n",
              " 37: (-126, 'ugli'),\n",
              " 39: (-66, 'white_mulberry'),\n",
              " 41: (241, 'zucchini'),\n",
              " 42: (-154, 'manila tamarind'),\n",
              " 43: (162, 'lillipilli')}"
            ]
          },
          "metadata": {
            "tags": []
          },
          "execution_count": 29
        }
      ]
    },
    {
      "cell_type": "code",
      "metadata": {
        "colab": {
          "base_uri": "https://localhost:8080/"
        },
        "id": "cgfk2Vt8aHMd",
        "outputId": "6ecc0792-140d-442c-c1d9-1abb4b9d648c"
      },
      "source": [
        "lt=[1,19,20,41,30,31]\n",
        "for i in lt:\n",
        "  print(label_fruit_map[i])\n"
      ],
      "execution_count": null,
      "outputs": [
        {
          "output_type": "stream",
          "text": [
            "apple\n",
            "kumquat\n",
            "lime\n",
            "zucchini\n",
            "pineapple\n",
            "plumcot\n"
          ],
          "name": "stdout"
        }
      ]
    },
    {
      "cell_type": "code",
      "metadata": {
        "colab": {
          "base_uri": "https://localhost:8080/"
        },
        "id": "dQZaQVIFGkc-",
        "outputId": "d215e017-af52-4c55-e22d-39fdce5f6489"
      },
      "source": [
        "from sklearn.metrics import accuracy_score,classification_report\n",
        "train_acc=accuracy_score(y_train_pred,y_train_label)\n",
        "test_acc=accuracy_score(y_test_pred,y_test_label)\n",
        "train_acc,test_acc"
      ],
      "execution_count": null,
      "outputs": [
        {
          "output_type": "execute_result",
          "data": {
            "text/plain": [
              "(0.029706717123935668, 0.02989593188268685)"
            ]
          },
          "metadata": {
            "tags": []
          },
          "execution_count": 31
        }
      ]
    },
    {
      "cell_type": "code",
      "metadata": {
        "colab": {
          "base_uri": "https://localhost:8080/"
        },
        "id": "xzvrJGNUGkNw",
        "outputId": "54e2bd6c-312c-4aae-b39e-ba265c195c05"
      },
      "source": [
        "report=classification_report(y_test_label,y_test_pred)\n",
        "print(report)"
      ],
      "execution_count": null,
      "outputs": [
        {
          "output_type": "stream",
          "text": [
            "              precision    recall  f1-score   support\n",
            "\n",
            "           0       0.88      0.97      0.93       311\n",
            "           1       0.00      0.00      0.00       282\n",
            "           2       0.00      0.00      0.00       290\n",
            "           3       0.00      0.00      0.00       282\n",
            "           4       0.00      0.00      0.00       251\n",
            "           5       0.00      0.00      0.00       252\n",
            "           6       0.00      0.00      0.00       256\n",
            "           7       0.00      0.00      0.00       268\n",
            "           8       0.00      0.00      0.00       250\n",
            "           9       0.00      0.00      0.00       259\n",
            "          10       0.00      0.00      0.00       253\n",
            "          11       0.00      0.00      0.00       261\n",
            "          12       0.01      0.01      0.01       258\n",
            "          13       0.00      0.00      0.00       256\n",
            "          14       0.00      0.00      0.00       258\n",
            "          15       0.00      0.00      0.00       255\n",
            "          16       0.00      0.00      0.00       319\n",
            "          17       0.00      0.00      0.00       253\n",
            "          18       0.00      0.00      0.00       253\n",
            "          19       0.00      0.00      0.00       252\n",
            "          20       0.00      0.00      0.00       252\n",
            "          21       0.01      0.01      0.01       256\n",
            "          22       0.00      0.00      0.00       212\n",
            "          23       0.00      0.00      0.00       258\n",
            "          24       0.00      0.00      0.00       205\n",
            "          25       0.00      0.00      0.00       257\n",
            "          26       0.00      0.00      0.00       252\n",
            "          27       0.00      0.00      0.00       253\n",
            "          28       0.00      0.00      0.00       263\n",
            "          29       0.00      0.00      0.00       279\n",
            "          30       0.00      0.00      0.00       253\n",
            "          31       0.00      0.00      0.00       250\n",
            "          32       0.00      0.00      0.00       258\n",
            "          33       0.00      0.00      0.00       249\n",
            "          34       0.00      0.00      0.00        81\n",
            "          35       0.00      0.00      0.00       216\n",
            "          36       0.00      0.00      0.00       252\n",
            "          37       0.00      0.00      0.00       125\n",
            "          38       0.00      0.00      0.00       220\n",
            "          39       0.00      0.00      0.00        25\n",
            "          40       0.00      0.00      0.00       253\n",
            "          41       0.00      0.00      0.00       254\n",
            "          42       0.01      0.04      0.02        76\n",
            "          43       0.00      0.00      0.00       252\n",
            "          44       0.00      0.00      0.00         0\n",
            "          45       0.00      0.00      0.00         0\n",
            "          46       0.00      0.00      0.00         0\n",
            "          47       0.00      0.00      0.00         0\n",
            "          48       0.00      0.00      0.00         0\n",
            "          49       0.00      0.00      0.00         0\n",
            "\n",
            "    accuracy                           0.03     10570\n",
            "   macro avg       0.02      0.02      0.02     10570\n",
            "weighted avg       0.03      0.03      0.03     10570\n",
            "\n"
          ],
          "name": "stdout"
        },
        {
          "output_type": "stream",
          "text": [
            "/usr/local/lib/python3.7/dist-packages/sklearn/metrics/_classification.py:1272: UndefinedMetricWarning: Recall and F-score are ill-defined and being set to 0.0 in labels with no true samples. Use `zero_division` parameter to control this behavior.\n",
            "  _warn_prf(average, modifier, msg_start, len(result))\n"
          ],
          "name": "stderr"
        }
      ]
    },
    {
      "cell_type": "markdown",
      "metadata": {
        "id": "B4spY_xE0EEu"
      },
      "source": [
        "Confusion Matrix"
      ]
    },
    {
      "cell_type": "code",
      "metadata": {
        "colab": {
          "base_uri": "https://localhost:8080/"
        },
        "id": "QbK1FwM4QXwZ",
        "outputId": "47d59637-c6e1-4cb0-f30c-bbae9f68f7fb"
      },
      "source": [
        "from sklearn.metrics import confusion_matrix\n",
        "from sklearn.metrics import ConfusionMatrixDisplay\n",
        "\n",
        "cm=confusion_matrix(y_test_label,y_test_pred)\n",
        "print(cm)"
      ],
      "execution_count": null,
      "outputs": [
        {
          "output_type": "stream",
          "text": [
            "[[303   1   0 ...   1   0   0]\n",
            " [  1   0 253 ...   1   0   0]\n",
            " [  0   0   0 ...   2   0   0]\n",
            " ...\n",
            " [  0   0   0 ...   0   0   0]\n",
            " [  0   0   0 ...   0   0   0]\n",
            " [  0   0   0 ...   0   0   0]]\n"
          ],
          "name": "stdout"
        }
      ]
    },
    {
      "cell_type": "code",
      "metadata": {
        "colab": {
          "base_uri": "https://localhost:8080/"
        },
        "id": "-Us-3Q9ObEtS",
        "outputId": "642bcbdb-0ee8-42f3-ca1a-c4c3ae7c2204"
      },
      "source": [
        "import os\n",
        "fruit_lt=os.listdir('/content/drive/MyDrive/All fruits/Fruit')\n",
        "fruit_lt,len(fruit_lt)"
      ],
      "execution_count": null,
      "outputs": [
        {
          "output_type": "execute_result",
          "data": {
            "text/plain": [
              "(['Acerola_fruit',\n",
              "  'Apple_fruit',\n",
              "  'Apricots_fruit',\n",
              "  'Banana_fruit',\n",
              "  'Blackberry_fruit',\n",
              "  'Blueberry_fruit',\n",
              "  'Carambola_fruit',\n",
              "  'Cherry_fruit',\n",
              "  'Chestnut_fruit',\n",
              "  'Coconut_fruit',\n",
              "  'Custard_apple_fruit',\n",
              "  'Date_fruit',\n",
              "  'Dragon_Fruit',\n",
              "  'Fig_fruit',\n",
              "  'Gooseberry_fruit',\n",
              "  'Grapes_fruit',\n",
              "  'Guava_fruit',\n",
              "  'Jack_fruit',\n",
              "  'Jambolan_fruit',\n",
              "  'Jujube_fruit',\n",
              "  'Kiwi_fruit',\n",
              "  'Kumquat_fruit',\n",
              "  'Lime_fruit',\n",
              "  'Litchi_fruit',\n",
              "  'Loquat_fruit',\n",
              "  'Mamey_fruit',\n",
              "  'Mango_fruit',\n",
              "  'Mulberry_fruit',\n",
              "  'Muskmelon_fruit',\n",
              "  'Nectrine_fruit',\n",
              "  'Olive_fruit',\n",
              "  'Orange_fruit',\n",
              "  'Papaya_fruit',\n",
              "  'Pear_fruit',\n",
              "  'Pineapple_fruit',\n",
              "  'Plum_fruit',\n",
              "  'Pomegranate_fruit',\n",
              "  'Pummelo_fruit',\n",
              "  'Peach_fruit',\n",
              "  'Quince_fruit',\n",
              "  'Rambutan_Fruit',\n",
              "  'Sapodilla_fruit',\n",
              "  'Soursop_fruit',\n",
              "  'Strawberry_fruit',\n",
              "  'Ugli_Fruit',\n",
              "  'Ugni_fruit',\n",
              "  'Water_Chestnut_fruit',\n",
              "  'Watermelon_fruit',\n",
              "  'White_Mulberry_fruit',\n",
              "  'Yangmei_fruit',\n",
              "  'apple.npy',\n",
              "  'kumquat.npy',\n",
              "  'lime.npy',\n",
              "  'pineapple.npy',\n",
              "  'plumcot.npy',\n",
              "  'zucchini.npy'],\n",
              " 56)"
            ]
          },
          "metadata": {
            "tags": []
          },
          "execution_count": 35
        }
      ]
    },
    {
      "cell_type": "code",
      "metadata": {
        "colab": {
          "base_uri": "https://localhost:8080/"
        },
        "id": "OskqbipAbRST",
        "outputId": "4055fcb6-c59d-4b3b-ca29-58331fc0ca81"
      },
      "source": [
        "fruit_map={}\n",
        "for index,val in enumerate(fruit_lt):\n",
        "  fruit_map[index]=val\n",
        "fruit_map"
      ],
      "execution_count": null,
      "outputs": [
        {
          "output_type": "execute_result",
          "data": {
            "text/plain": [
              "{0: 'Acerola_fruit',\n",
              " 1: 'Apple_fruit',\n",
              " 2: 'Apricots_fruit',\n",
              " 3: 'Banana_fruit',\n",
              " 4: 'Blackberry_fruit',\n",
              " 5: 'Blueberry_fruit',\n",
              " 6: 'Carambola_fruit',\n",
              " 7: 'Cherry_fruit',\n",
              " 8: 'Chestnut_fruit',\n",
              " 9: 'Coconut_fruit',\n",
              " 10: 'Custard_apple_fruit',\n",
              " 11: 'Date_fruit',\n",
              " 12: 'Dragon_Fruit',\n",
              " 13: 'Fig_fruit',\n",
              " 14: 'Gooseberry_fruit',\n",
              " 15: 'Grapes_fruit',\n",
              " 16: 'Guava_fruit',\n",
              " 17: 'Jack_fruit',\n",
              " 18: 'Jambolan_fruit',\n",
              " 19: 'Jujube_fruit',\n",
              " 20: 'Kiwi_fruit',\n",
              " 21: 'Kumquat_fruit',\n",
              " 22: 'Lime_fruit',\n",
              " 23: 'Litchi_fruit',\n",
              " 24: 'Loquat_fruit',\n",
              " 25: 'Mamey_fruit',\n",
              " 26: 'Mango_fruit',\n",
              " 27: 'Mulberry_fruit',\n",
              " 28: 'Muskmelon_fruit',\n",
              " 29: 'Nectrine_fruit',\n",
              " 30: 'Olive_fruit',\n",
              " 31: 'Orange_fruit',\n",
              " 32: 'Papaya_fruit',\n",
              " 33: 'Pear_fruit',\n",
              " 34: 'Pineapple_fruit',\n",
              " 35: 'Plum_fruit',\n",
              " 36: 'Pomegranate_fruit',\n",
              " 37: 'Pummelo_fruit',\n",
              " 38: 'Peach_fruit',\n",
              " 39: 'Quince_fruit',\n",
              " 40: 'Rambutan_Fruit',\n",
              " 41: 'Sapodilla_fruit',\n",
              " 42: 'Soursop_fruit',\n",
              " 43: 'Strawberry_fruit',\n",
              " 44: 'Ugli_Fruit',\n",
              " 45: 'Ugni_fruit',\n",
              " 46: 'Water_Chestnut_fruit',\n",
              " 47: 'Watermelon_fruit',\n",
              " 48: 'White_Mulberry_fruit',\n",
              " 49: 'Yangmei_fruit',\n",
              " 50: 'apple.npy',\n",
              " 51: 'kumquat.npy',\n",
              " 52: 'lime.npy',\n",
              " 53: 'pineapple.npy',\n",
              " 54: 'plumcot.npy',\n",
              " 55: 'zucchini.npy'}"
            ]
          },
          "metadata": {
            "tags": []
          },
          "execution_count": 36
        }
      ]
    },
    {
      "cell_type": "code",
      "metadata": {
        "colab": {
          "base_uri": "https://localhost:8080/"
        },
        "id": "7TcKX4dqa246",
        "outputId": "ba3fd541-6910-4980-aff6-0fa20e50e0dd"
      },
      "source": [
        "for index,row in enumerate(cm):\n",
        "  count=0\n",
        "  for j in range(len(row)):\n",
        "    if(row[j]>0):\n",
        "      count+=1\n",
        "  if count>1:\n",
        "    print(f'{fruit_map[index]}--->{row}')\n",
        "  "
      ],
      "execution_count": null,
      "outputs": [
        {
          "output_type": "stream",
          "text": [
            "Acerola_fruit--->[303   1   0   0   0   0   0   0   0   0   1   0   1   0   0   0   1   1\n",
            "   0   0   0   0   0   0   0   0   0   0   0   0   0   0   1   0   0   0\n",
            "   0   0   0   0   0   0   0   1   0   0   0   1   0   0]\n",
            "Apple_fruit--->[  1   0 253   0   0   0   1   0   0   0   0   0   1   0   0   0   0   1\n",
            "   0   3   0   5   0   0   3   0   0   4   0   0   0   8   0   0   0   0\n",
            "   0   0   0   0   0   0   0   0   0   1   0   1   0   0]\n",
            "Apricots_fruit--->[  0   0   0 273   0   0   1   0   3   1   0   0   0   0   0   0   1   0\n",
            "   0   0   0   0   0   1   3   2   0   0   1   0   1   0   0   1   0   0\n",
            "   0   0   0   0   0   0   0   0   0   0   0   2   0   0]\n",
            "Banana_fruit--->[  0   0   0   0 275   1   0   0   0   0   0   0   0   1   0   0   3   0\n",
            "   0   0   0   0   0   0   0   0   0   0   0   0   0   0   0   0   0   0\n",
            "   2   0   0   0   0   0   0   0   0   0   0   0   0   0]\n",
            "Blackberry_fruit--->[  0   0   0   0   0 246   0   0   1   0   0   0   0   3   0   0   0   0\n",
            "   0   0   0   0   0   0   0   0   0   0   0   0   0   0   0   0   0   1\n",
            "   0   0   0   0   0   0   0   0   0   0   0   0   0   0]\n",
            "Blueberry_fruit--->[  0   0   0   1   0   0 249   0   0   0   0   0   0   0   0   0   0   0\n",
            "   0   0   1   0   0   0   0   0   0   0   1   0   0   0   0   0   0   0\n",
            "   0   0   0   0   0   0   0   0   0   0   0   0   0   0]\n",
            "Carambola_fruit--->[  0   0   0   1   0   0   0 236   3   1   0   0   0   0   0   0   0   0\n",
            "   0   0   1   0   0   2   1   3   1   0   1   1   0   0   0   2   0   1\n",
            "   0   0   0   0   0   0   1   0   0   0   0   0   1   0]\n",
            "Cherry_fruit--->[  0   0   0   1   0   2   1   1 249   2   0   0   0   0   0   0   0   0\n",
            "   1   0   0   0   0   2   0   0   0   0   0   0   0   0   0   0   0   2\n",
            "   0   0   1   0   0   0   1   0   4   0   0   1   0   0]\n",
            "Chestnut_fruit--->[  0   0   1   1   0   0   0   1   0 231   0   0   0   0   0   0   2   2\n",
            "   0   0   0   1   2   0   0   0   0   0   0   0   0   1   0   0   1   0\n",
            "   1   0   0   0   2   0   1   0   0   0   1   1   0   1]\n",
            "Coconut_fruit--->[  0   0   0   0   0   0   2   0   0   0 248   0   0   0   0   0   0   0\n",
            "   0   0   0   0   0   0   0   0   0   0   0   0   1   0   1   0   0   0\n",
            "   1   0   0   0   0   0   3   0   0   0   0   1   2   0]\n",
            "Custard_apple_fruit--->[  0   0   0   0   0   0   0   2   0   1   0 236   1   0   1   0   2   0\n",
            "   0   0   1   0   0   0   0   1   1   0   0   0   0   5   0   0   0   1\n",
            "   0   0   0   0   0   1   0   0   0   0   0   0   0   0]\n",
            "Date_fruit--->[  0   1   0   0   0   0   2   0   1   0   0   1 231   6   0   0   0   7\n",
            "   0   0   1   0   0   0   0   0   1   0   0   0   0   0   0   2   0   0\n",
            "   0   0   0   1   2   0   1   0   0   0   0   4   0   0]\n",
            "Dragon_Fruit--->[  0   0   0   0   2   5   4   0   3   2   1   0   3 229   0   0   1   0\n",
            "   2   0   2   0   0   0   0   0   0   0   0   0   0   0   0   0   0   0\n",
            "   0   0   0   1   0   0   0   0   0   0   1   1   1   0]\n",
            "Fig_fruit--->[  0   3   0   0   0   0   3   0   0   0   0   1   0   0 236   0   0   0\n",
            "   1   0   4   0   0   0   1   1   0   0   0   2   0   0   0   4   0   0\n",
            "   0   0   0   0   0   0   0   0   0   0   0   0   0   0]\n",
            "Gooseberry_fruit--->[  0   0   0   0   0   0   2   2   0   0   0   0   0   0   0 227   0   0\n",
            "   2   0   0   0   0   0   0  16   0   0   0   0   0   0   0   3   0   0\n",
            "   0   4   0   0   0   0   0   0   2   0   0   0   0   0]\n",
            "Grapes_fruit--->[  0   0   0   0   2   3   0   1   0   1   0   0   0   1   0   0 239   0\n",
            "   0   0   0   0   0   0   0   0   4   0   0   0   0   0   0   0   0   0\n",
            "   0   0   0   0   0   0   2   1   0   0   0   1   0   0]\n",
            "Guava_fruit--->[  1   6   3   0   0   0   0   0   0   1   0   0   2   4   0   0   0 287\n",
            "   0   0   0   0   1   0   0   0   0   0   0   1   0   1   0   2   0   0\n",
            "   0   0   0   0   5   0   1   0   0   0   0   4   0   0]\n",
            "Jack_fruit--->[  0   0   0   0   0   0   1   2   1   0   0   0   2   1   0   0   0   0\n",
            " 230   0   0   4   0   0   0   2   0   0   0   1   0   0   0   1   0   6\n",
            "   0   0   0   0   0   0   1   0   1   0   0   0   0   0]\n",
            "Jambolan_fruit--->[  0   0   8   0   0   0   0   0   0   0   0   0   0   0   0   0   0   0\n",
            "   0   2   0 232   0   0   1   0   0   0   0   0   0   1   0   3   0   1\n",
            "   0   1   0   0   3   0   0   0   1   0   0   0   0   0]\n",
            "Jujube_fruit--->[  0   0   2   0   0   0   0   0   3   0   0   0   0   0   0   0   0   0\n",
            "   0   0   0   0 233   0   0   0   0   0   0   0   1   0   0   0   1   1\n",
            "   2   0   0   0   0   0   1   1   0   2   2   3   0   0]\n",
            "Kiwi_fruit--->[  0   0   0   2   0   0   0   2   1   0   0   0   0   0   0   0   0   0\n",
            "   0   0   0   0   0 234   0   3   0   0   0   0   0   0   0   0   0   9\n",
            "   0   0   0   0   0   0   0   0   0   0   1   0   0   0]\n",
            "Kumquat_fruit--->[  0   5   8   0   0   0   1   1   1   0   1   1   0   0   0   0   0   0\n",
            "   0   0   0   2   0   0 216   2   0   1   2   1   0   6   0   5   0   1\n",
            "   0   1   0   0   0   0   0   0   0   0   0   1   0   0]\n",
            "Lime_fruit--->[  0   0   0   0   0   0   0   1   0   0   0   0   0   0   0   0   0   0\n",
            "   0   0   2   0   0   0   0 205   0   0   0   0   0   0   0   0   0   0\n",
            "   0   0   0   0   0   1   0   0   3   0   0   0   0   0]\n",
            "Litchi_fruit--->[  0   0   0   0   1   2   0   0   2   0   0   0   2   0   0   0   5   2\n",
            "   0   0   4   0   1   0   3   0 223   0   0   0   1   1   0   3   0   2\n",
            "   0   0   0   0   1   2   3   0   0   0   0   0   0   0]\n",
            "Loquat_fruit--->[  0   0   2   0   0   0   0   0   0   0   0   0   0   0   0   0   0   0\n",
            "   0  12   0   2   0   0   0   0   0 188   0   0   0   0   0   0   0   0\n",
            "   0   1   0   0   0   0   0   0   0   0   0   0   0   0]\n",
            "Mamey_fruit--->[  0   0   0   0   0   1   3   1   0   0   0   0   0   0   0   0   0   0\n",
            "   1   0   0   3   0   0   4   1   0   0 235   1   0   0   0   0   0   0\n",
            "   0   0   1   1   0   2   0   0   3   0   0   0   0   0]\n",
            "Mango_fruit--->[  0  10   4   1   0   0   1   0   0   0   0   0   2   0   3   0   0   0\n",
            "   2   1   1   0   0   0   5   3   0   0   0 208   0   0   2   4   0   0\n",
            "   0   3   0   0   0   1   0   0   1   0   0   0   0   0]\n",
            "Mulberry_fruit--->[  5   1   8   0   0   0   0   0   0   0   0   0   0   0   0   0   0   0\n",
            "   0   0   0   0   0   0   0   0   0   0   0   1   0   1 236   0   0   1\n",
            "   0   0   0   0   0   0   0   0   0   0   0   0   0   0]\n",
            "Muskmelon_fruit--->[  0   2   1   2   0   0   2   0   1   0   0   0   0   1   1   0   0   0\n",
            "   1   0   0   2   0   0   4   0   0   0   1   4   0   0   0 236   0   0\n",
            "   0   0   0   0   5   0   0   0   0   0   0   0   0   0]\n",
            "Nectrine_fruit--->[  0   0   0   0   0   0   0   0   0   1   0   0   0   0   0   0   0   0\n",
            "   1   0   0   0   1   0   0   0   0   0   0   0   0   0   1   0 271   0\n",
            "   1   0   0   0   0   0   0   0   0   0   0   0   0   3]\n",
            "Olive_fruit--->[  0   0   0   0   0   0   0   1   0   0   0   0   0   0   0   0   1   0\n",
            "   2   0   0   0   0   5   0   0   0   0   1   0   0   0   0   0   0 241\n",
            "   0   0   0   0   1   0   1   0   0   0   0   0   0   0]\n",
            "Orange_fruit--->[  3   0   0   0   0   0   0   0   0   0   0   0   1   0   0   0   0   0\n",
            "   0   0   0   0   1   0   0   0   0   0   0   0   0   0   1   0   0   0\n",
            " 243   0   0   0   0   0   0   0   0   0   0   1   0   0]\n",
            "Papaya_fruit--->[  0   0   0   0   0   0   3   0   0   0   0   0   0   0   0   0   0   0\n",
            "   1   1   1   0   0   0   2   3   0   4   0   0   0   0   0   2   0   1\n",
            "   0 240   0   0   0   0   0   0   0   0   0   0   0   0]\n",
            "Pear_fruit--->[  0   0   0   0   0   0   0   1   0   0   0   0   1   0   0   0   0   0\n",
            "   0   0   0   0   0   0   0   0   0   0   0   0   0   0   0   0   0   0\n",
            "   0   0 246   0   0   1   0   0   0   0   0   0   0   0]\n",
            "Pineapple_fruit--->[ 0  0  0  0  0  0  0  0  0  0  0  0  0  0  0  0  0  0  0  0  1  0  0  0\n",
            "  0  0  0  0  0  0  0  0  0  0  0  0  0  0  0 79  0  0  0  0  0  0  0  1\n",
            "  0  0]\n",
            "Plum_fruit--->[  1   0   1   0   0   0   0   0   1   0   0   0   0   1   0   0   0   0\n",
            "   0   1   1   0   0   0   0   0   0   1   0   0   0   0   0   0   0   0\n",
            "   0   1   0   0 208   0   0   0   0   0   0   0   0   0]\n",
            "Pomegranate_fruit--->[  1   2   0   1   0   0   0   2   1   2   1   1   1   2   0   0   0   2\n",
            "   0   0   0   0   2   0   0   0   3   0   0   1   1   3   1   0   0   4\n",
            "   0   0   0   2   0   1 207   2   1   0   0   6   2   0]\n",
            "Pummelo_fruit--->[ 3  0  2  0  0  0  1  0  0  0  1  0  1  1  0  0  1  0  0  0  0  1  4  0\n",
            "  0  0  1  0  0  0  0  0  0  1  0  3  0  0  0  2  0  0  2 77  0  0  0 23\n",
            "  1  0]\n",
            "Peach_fruit--->[  0   0   0   4   0   0   0   0   8   0   0   1   0   0   0   0   0   0\n",
            "   0   0   2   1   0   5   1   3   0   0   2   0   0   0   0   0   0   0\n",
            "   0   0   0   4   0   4   0   0 183   0   0   0   2   0]\n",
            "Quince_fruit--->[ 2  0  2  0  0  0  0  0  1  0  0  0  0  0  0  0  0  0  0  1  0  0  0  0\n",
            "  0  0  0  0  0  0  0  0  1  0  0  1  0  0  1  0  0  0  0  0  0 16  0  0\n",
            "  0  0]\n",
            "Rambutan_Fruit--->[  0   0   1   0   0   0   0   2   1   4   0   1   0   0   0   0   1   4\n",
            "   0   0   0   0   8   1   0   0   0   0   0   0   2   3   0   0   0   1\n",
            "   0   0   0   0   1   0   0   0   0   0 220   0   0   3]\n",
            "Sapodilla_fruit--->[ 24   0   2   1   0   0   0   0   0   1   0   0   1   0   1   0   0   2\n",
            "   0   0   0   0   0   0   0   0   0   0   0   1   0   5   2   0   0   0\n",
            "   0   0   0   0   0   0   1   5   0   0   0 208   0   0]\n",
            "Soursop_fruit--->[ 0  0  0  0  0  0  0  3  1  2  3  0  1  1  1  0  2  0  1  0  0  0  0  0\n",
            "  0  1  0  0  1  0  1  2  0  1  0  0  0  0  0  1  0  0  3  3  1  0  0  1\n",
            " 46  0]\n",
            "Strawberry_fruit--->[  0   0   0   0   3   0   0   1   0   0   0   1   0   1   0   0   0   0\n",
            "   0   0   0   0  10   0   1   0   0   0   0   0   0   1   1   0   4   0\n",
            "   1   0   0   0   0   0   1   0   2   0   0   0   1 224]\n"
          ],
          "name": "stdout"
        }
      ]
    }
  ]
}